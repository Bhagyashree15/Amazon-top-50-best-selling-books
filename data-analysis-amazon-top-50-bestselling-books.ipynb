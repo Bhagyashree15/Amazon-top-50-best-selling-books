{
 "cells": [
  {
   "cell_type": "markdown",
   "metadata": {
    "papermill": {
     "duration": 0.026926,
     "end_time": "2020-12-29T02:11:21.073416",
     "exception": false,
     "start_time": "2020-12-29T02:11:21.046490",
     "status": "completed"
    },
    "tags": []
   },
   "source": [
    "# Amazon top 50 bestselling books - Data analysis\n",
    "\n",
    "**Intro.**\n",
    "\n",
    "\"Amazon.com, Inc, is an American multinational technology company based in Seattle, Washington, which focuses on e-commerce, cloud computing, digital streaming, and artificial intelligence. It is considered one of the Big Five companies in the U.S. information technology industry, along with Google, Apple, Microsoft, and Facebook.The company has been referred to as \"one of the most influential economic and cultural forces in the world\", as well as the world's most valuable brand.\"\n",
    "[https://en.wikipedia.org/wiki/Amazon_(company)](http://)\n",
    "\n",
    "**About the dataset.**\n",
    "\n",
    "Dataset on Amazon's Top 50 bestselling books from 2009 to 2019. Contains 550 books, data has been categorized into fiction and non-fiction using Goodreads\n",
    "\n",
    "**Purpose of the notebook.**\n",
    "\n",
    "The purpose of this notebook is to perform a data analysis on the dataset and extract insights that could help the business model grow, such as the best selling genres, authors and a good price/rating relationship.\n",
    "Such insights have a great business value since knowing what is selling a what is not, the company can focus their marketing strategies to improve overral sells: customer might perceive a genre too expensive so they give a low rating or books with high ratings and low sells might not be visible to other customers.\n",
    "\n",
    "**Features of the dataset**\n",
    "\n",
    "- **Name**: Name of the Book. String\n",
    "- **Author**: The author of the Book. String\n",
    "- **User Rating**: Amazon User Rating. Float\n",
    "- **Reviews**: Number of written reviews on amazon. Float\n",
    "- **Price**: The price of the book (As at 13/10/2020). Float\n",
    "- **Year**: The Year(s) it ranked on the bestseller. Date\n",
    "- **Genre**: Whether fiction or non-fiction. String\n"
   ]
  },
  {
   "cell_type": "code",
   "execution_count": 1,
   "metadata": {
    "_cell_guid": "b1076dfc-b9ad-4769-8c92-a6c4dae69d19",
    "_uuid": "8f2839f25d086af736a60e9eeb907d3b93b6e0e5",
    "execution": {
     "iopub.execute_input": "2020-12-29T02:11:21.126657Z",
     "iopub.status.busy": "2020-12-29T02:11:21.125881Z",
     "iopub.status.idle": "2020-12-29T02:11:22.112091Z",
     "shell.execute_reply": "2020-12-29T02:11:22.112662Z"
    },
    "papermill": {
     "duration": 1.014558,
     "end_time": "2020-12-29T02:11:22.112856",
     "exception": false,
     "start_time": "2020-12-29T02:11:21.098298",
     "status": "completed"
    },
    "tags": []
   },
   "outputs": [],
   "source": [
    "# data wrangling\n",
    "import pandas as pd\n",
    "import numpy as np\n",
    "\n",
    "# data viz\n",
    "import matplotlib.pyplot as plt\n",
    "import seaborn as sns\n",
    "sns.set_style('whitegrid')\n",
    "\n",
    "%matplotlib inline"
   ]
  },
  {
   "cell_type": "markdown",
   "metadata": {
    "papermill": {
     "duration": 0.024111,
     "end_time": "2020-12-29T02:11:22.161675",
     "exception": false,
     "start_time": "2020-12-29T02:11:22.137564",
     "status": "completed"
    },
    "tags": []
   },
   "source": [
    "# 1. Data loading and data cleaning\n",
    "## Data Loading\n",
    "Let's begging by loading the data set and taking a quick glance at the data set and general statistics, as well as any missing values."
   ]
  },
  {
   "cell_type": "code",
   "execution_count": 2,
   "metadata": {
    "_cell_guid": "79c7e3d0-c299-4dcb-8224-4455121ee9b0",
    "_uuid": "d629ff2d2480ee46fbb7e2d37f6b5fab8052498a",
    "execution": {
     "iopub.execute_input": "2020-12-29T02:11:22.221382Z",
     "iopub.status.busy": "2020-12-29T02:11:22.220698Z",
     "iopub.status.idle": "2020-12-29T02:11:22.237181Z",
     "shell.execute_reply": "2020-12-29T02:11:22.236343Z"
    },
    "papermill": {
     "duration": 0.05043,
     "end_time": "2020-12-29T02:11:22.237321",
     "exception": false,
     "start_time": "2020-12-29T02:11:22.186891",
     "status": "completed"
    },
    "tags": []
   },
   "outputs": [],
   "source": [
    "amazon = pd.read_csv('../input/amazon-top-50-bestselling-books-2009-2019/bestsellers with categories.csv')"
   ]
  },
  {
   "cell_type": "code",
   "execution_count": 3,
   "metadata": {
    "execution": {
     "iopub.execute_input": "2020-12-29T02:11:22.307809Z",
     "iopub.status.busy": "2020-12-29T02:11:22.307133Z",
     "iopub.status.idle": "2020-12-29T02:11:22.745195Z",
     "shell.execute_reply": "2020-12-29T02:11:22.745676Z"
    },
    "papermill": {
     "duration": 0.483611,
     "end_time": "2020-12-29T02:11:22.745824",
     "exception": false,
     "start_time": "2020-12-29T02:11:22.262213",
     "status": "completed"
    },
    "scrolled": true,
    "tags": []
   },
   "outputs": [
    {
     "data": {
      "text/html": [
       "<div>\n",
       "<style scoped>\n",
       "    .dataframe tbody tr th:only-of-type {\n",
       "        vertical-align: middle;\n",
       "    }\n",
       "\n",
       "    .dataframe tbody tr th {\n",
       "        vertical-align: top;\n",
       "    }\n",
       "\n",
       "    .dataframe thead th {\n",
       "        text-align: right;\n",
       "    }\n",
       "</style>\n",
       "<table border=\"1\" class=\"dataframe\">\n",
       "  <thead>\n",
       "    <tr style=\"text-align: right;\">\n",
       "      <th></th>\n",
       "      <th>Name</th>\n",
       "      <th>Author</th>\n",
       "      <th>User Rating</th>\n",
       "      <th>Reviews</th>\n",
       "      <th>Price</th>\n",
       "      <th>Year</th>\n",
       "      <th>Genre</th>\n",
       "    </tr>\n",
       "  </thead>\n",
       "  <tbody>\n",
       "    <tr>\n",
       "      <th>0</th>\n",
       "      <td>10-Day Green Smoothie Cleanse</td>\n",
       "      <td>JJ Smith</td>\n",
       "      <td>4.7</td>\n",
       "      <td>17350</td>\n",
       "      <td>8</td>\n",
       "      <td>2016</td>\n",
       "      <td>Non Fiction</td>\n",
       "    </tr>\n",
       "    <tr>\n",
       "      <th>1</th>\n",
       "      <td>11/22/63: A Novel</td>\n",
       "      <td>Stephen King</td>\n",
       "      <td>4.6</td>\n",
       "      <td>2052</td>\n",
       "      <td>22</td>\n",
       "      <td>2011</td>\n",
       "      <td>Fiction</td>\n",
       "    </tr>\n",
       "    <tr>\n",
       "      <th>2</th>\n",
       "      <td>12 Rules for Life: An Antidote to Chaos</td>\n",
       "      <td>Jordan B. Peterson</td>\n",
       "      <td>4.7</td>\n",
       "      <td>18979</td>\n",
       "      <td>15</td>\n",
       "      <td>2018</td>\n",
       "      <td>Non Fiction</td>\n",
       "    </tr>\n",
       "    <tr>\n",
       "      <th>3</th>\n",
       "      <td>1984 (Signet Classics)</td>\n",
       "      <td>George Orwell</td>\n",
       "      <td>4.7</td>\n",
       "      <td>21424</td>\n",
       "      <td>6</td>\n",
       "      <td>2017</td>\n",
       "      <td>Fiction</td>\n",
       "    </tr>\n",
       "    <tr>\n",
       "      <th>4</th>\n",
       "      <td>5,000 Awesome Facts (About Everything!) (Natio...</td>\n",
       "      <td>National Geographic Kids</td>\n",
       "      <td>4.8</td>\n",
       "      <td>7665</td>\n",
       "      <td>12</td>\n",
       "      <td>2019</td>\n",
       "      <td>Non Fiction</td>\n",
       "    </tr>\n",
       "  </tbody>\n",
       "</table>\n",
       "</div>"
      ],
      "text/plain": [
       "                                                Name  \\\n",
       "0                      10-Day Green Smoothie Cleanse   \n",
       "1                                  11/22/63: A Novel   \n",
       "2            12 Rules for Life: An Antidote to Chaos   \n",
       "3                             1984 (Signet Classics)   \n",
       "4  5,000 Awesome Facts (About Everything!) (Natio...   \n",
       "\n",
       "                     Author  User Rating  Reviews  Price  Year        Genre  \n",
       "0                  JJ Smith          4.7    17350      8  2016  Non Fiction  \n",
       "1              Stephen King          4.6     2052     22  2011      Fiction  \n",
       "2        Jordan B. Peterson          4.7    18979     15  2018  Non Fiction  \n",
       "3             George Orwell          4.7    21424      6  2017      Fiction  \n",
       "4  National Geographic Kids          4.8     7665     12  2019  Non Fiction  "
      ]
     },
     "metadata": {},
     "output_type": "display_data"
    },
    {
     "data": {
      "image/png": "[encoded data removed]",
      "text/plain": [
       "<Figure size 432x288 with 2 Axes>"
      ]
     },
     "metadata": {
      "needs_background": "light"
     },
     "output_type": "display_data"
    },
    {
     "name": "stdout",
     "output_type": "stream",
     "text": [
      "(550, 7) \n",
      "\n",
      "<class 'pandas.core.frame.DataFrame'>\n",
      "RangeIndex: 550 entries, 0 to 549\n",
      "Data columns (total 7 columns):\n",
      " #   Column       Non-Null Count  Dtype  \n",
      "---  ------       --------------  -----  \n",
      " 0   Name         550 non-null    object \n",
      " 1   Author       550 non-null    object \n",
      " 2   User Rating  550 non-null    float64\n",
      " 3   Reviews      550 non-null    int64  \n",
      " 4   Price        550 non-null    int64  \n",
      " 5   Year         550 non-null    int64  \n",
      " 6   Genre        550 non-null    object \n",
      "dtypes: float64(1), int64(3), object(3)\n",
      "memory usage: 30.2+ KB\n",
      "None \n",
      "\n",
      "       User Rating       Reviews       Price         Year\n",
      "count   550.000000    550.000000  550.000000   550.000000\n",
      "mean      4.618364  11953.281818   13.100000  2014.000000\n",
      "std       0.226980  11731.132017   10.842262     3.165156\n",
      "min       3.300000     37.000000    0.000000  2009.000000\n",
      "25%       4.500000   4058.000000    7.000000  2011.000000\n",
      "50%       4.700000   8580.000000   11.000000  2014.000000\n",
      "75%       4.800000  17253.250000   16.000000  2017.000000\n",
      "max       4.900000  87841.000000  105.000000  2019.000000\n"
     ]
    }
   ],
   "source": [
    "display(amazon.head())\n",
    "\n",
    "sns.heatmap(amazon.isnull())\n",
    "plt.show()\n",
    "\n",
    "print(amazon.shape, \"\\n\")\n",
    "print(amazon.info(), \"\\n\")\n",
    "print(amazon.describe())\n",
    "\n",
    "plt.show()"
   ]
  },
  {
   "cell_type": "markdown",
   "metadata": {
    "papermill": {
     "duration": 0.026505,
     "end_time": "2020-12-29T02:11:22.799666",
     "exception": false,
     "start_time": "2020-12-29T02:11:22.773161",
     "status": "completed"
    },
    "tags": []
   },
   "source": [
    "Thankfully, there aren't any missing values in the dataset.\n",
    "by looking at the descriptive statistics we can get a first idea of how some features behave: 'Reviews's mean is much bigger than the median, meaning some books have we more reviews than others. on the other hand, 'Price' median is way lower than its mean, meaning that most of the books have a low price."
   ]
  },
  {
   "cell_type": "markdown",
   "metadata": {
    "papermill": {
     "duration": 0.026363,
     "end_time": "2020-12-29T02:11:22.853234",
     "exception": false,
     "start_time": "2020-12-29T02:11:22.826871",
     "status": "completed"
    },
    "tags": []
   },
   "source": [
    "## Data cleaning\n",
    "we will go feature by feature to look for inconsistencies and clean them"
   ]
  },
  {
   "cell_type": "code",
   "execution_count": 4,
   "metadata": {
    "execution": {
     "iopub.execute_input": "2020-12-29T02:11:22.913768Z",
     "iopub.status.busy": "2020-12-29T02:11:22.912853Z",
     "iopub.status.idle": "2020-12-29T02:11:22.917324Z",
     "shell.execute_reply": "2020-12-29T02:11:22.916770Z"
    },
    "papermill": {
     "duration": 0.036768,
     "end_time": "2020-12-29T02:11:22.917437",
     "exception": false,
     "start_time": "2020-12-29T02:11:22.880669",
     "status": "completed"
    },
    "tags": []
   },
   "outputs": [
    {
     "data": {
      "text/plain": [
       "Index(['Name', 'Author', 'User Rating', 'Reviews', 'Price', 'Year', 'Genre'], dtype='object')"
      ]
     },
     "execution_count": 4,
     "metadata": {},
     "output_type": "execute_result"
    }
   ],
   "source": [
    "amazon.columns"
   ]
  },
  {
   "cell_type": "markdown",
   "metadata": {
    "papermill": {
     "duration": 0.027009,
     "end_time": "2020-12-29T02:11:22.971901",
     "exception": false,
     "start_time": "2020-12-29T02:11:22.944892",
     "status": "completed"
    },
    "tags": []
   },
   "source": [
    "### Strings"
   ]
  },
  {
   "cell_type": "code",
   "execution_count": 5,
   "metadata": {
    "execution": {
     "iopub.execute_input": "2020-12-29T02:11:23.034151Z",
     "iopub.status.busy": "2020-12-29T02:11:23.033423Z",
     "iopub.status.idle": "2020-12-29T02:11:23.037175Z",
     "shell.execute_reply": "2020-12-29T02:11:23.037702Z"
    },
    "papermill": {
     "duration": 0.038952,
     "end_time": "2020-12-29T02:11:23.037840",
     "exception": false,
     "start_time": "2020-12-29T02:11:22.998888",
     "status": "completed"
    },
    "scrolled": true,
    "tags": []
   },
   "outputs": [
    {
     "name": "stdout",
     "output_type": "stream",
     "text": [
      "Name: \n",
      " Publication Manual of the American Psychological Association, 6th Edition       10\n",
      "StrengthsFinder 2.0                                                              9\n",
      "Oh, the Places You'll Go!                                                        8\n",
      "The 7 Habits of Highly Effective People: Powerful Lessons in Personal Change     7\n",
      "The Very Hungry Caterpillar                                                      7\n",
      "                                                                                ..\n",
      "The Big Short: Inside the Doomsday Machine                                       1\n",
      "Happy, Happy, Happy: My Life and Legacy as the Duck Commander                    1\n",
      "The Short Second Life of Bree Tanner: An Eclipse Novella (The Twilight Saga)     1\n",
      "Delivering Happiness: A Path to Profits, Passion, and Purpose                    1\n",
      "12 Rules for Life: An Antidote to Chaos                                          1\n",
      "Name: Name, Length: 351, dtype: int64\n"
     ]
    }
   ],
   "source": [
    "#Name\n",
    "#The value_counts() function is used to get a Series containing counts of unique values. The resulting object will be in descending order so that the first element is the most frequently-occurring element.\n",
    "print(\"Name:\", '\\n', amazon['Name'].value_counts())\n"
   ]
  },
  {
   "cell_type": "markdown",
   "metadata": {
    "papermill": {
     "duration": 0.027554,
     "end_time": "2020-12-29T02:11:23.092988",
     "exception": false,
     "start_time": "2020-12-29T02:11:23.065434",
     "status": "completed"
    },
    "tags": []
   },
   "source": [
    "The books have repeating values. Perhaps, different versions were released in different years. Let's check"
   ]
  },
  {
   "cell_type": "code",
   "execution_count": 6,
   "metadata": {
    "execution": {
     "iopub.execute_input": "2020-12-29T02:11:23.163556Z",
     "iopub.status.busy": "2020-12-29T02:11:23.162871Z",
     "iopub.status.idle": "2020-12-29T02:11:23.194390Z",
     "shell.execute_reply": "2020-12-29T02:11:23.193814Z"
    },
    "papermill": {
     "duration": 0.073973,
     "end_time": "2020-12-29T02:11:23.194508",
     "exception": false,
     "start_time": "2020-12-29T02:11:23.120535",
     "status": "completed"
    },
    "tags": []
   },
   "outputs": [
    {
     "data": {
      "text/html": [
       "<div>\n",
       "<style scoped>\n",
       "    .dataframe tbody tr th:only-of-type {\n",
       "        vertical-align: middle;\n",
       "    }\n",
       "\n",
       "    .dataframe tbody tr th {\n",
       "        vertical-align: top;\n",
       "    }\n",
       "\n",
       "    .dataframe thead th {\n",
       "        text-align: right;\n",
       "    }\n",
       "</style>\n",
       "<table border=\"1\" class=\"dataframe\">\n",
       "  <thead>\n",
       "    <tr style=\"text-align: right;\">\n",
       "      <th></th>\n",
       "      <th>Name</th>\n",
       "      <th>Author</th>\n",
       "      <th>User Rating</th>\n",
       "      <th>Reviews</th>\n",
       "      <th>Price</th>\n",
       "      <th>Year</th>\n",
       "      <th>Genre</th>\n",
       "    </tr>\n",
       "  </thead>\n",
       "  <tbody>\n",
       "    <tr>\n",
       "      <th>271</th>\n",
       "      <td>Publication Manual of the American Psychologic...</td>\n",
       "      <td>American Psychological Association</td>\n",
       "      <td>4.5</td>\n",
       "      <td>8580</td>\n",
       "      <td>46</td>\n",
       "      <td>2009</td>\n",
       "      <td>Non Fiction</td>\n",
       "    </tr>\n",
       "    <tr>\n",
       "      <th>272</th>\n",
       "      <td>Publication Manual of the American Psychologic...</td>\n",
       "      <td>American Psychological Association</td>\n",
       "      <td>4.5</td>\n",
       "      <td>8580</td>\n",
       "      <td>46</td>\n",
       "      <td>2010</td>\n",
       "      <td>Non Fiction</td>\n",
       "    </tr>\n",
       "    <tr>\n",
       "      <th>273</th>\n",
       "      <td>Publication Manual of the American Psychologic...</td>\n",
       "      <td>American Psychological Association</td>\n",
       "      <td>4.5</td>\n",
       "      <td>8580</td>\n",
       "      <td>46</td>\n",
       "      <td>2011</td>\n",
       "      <td>Non Fiction</td>\n",
       "    </tr>\n",
       "    <tr>\n",
       "      <th>274</th>\n",
       "      <td>Publication Manual of the American Psychologic...</td>\n",
       "      <td>American Psychological Association</td>\n",
       "      <td>4.5</td>\n",
       "      <td>8580</td>\n",
       "      <td>46</td>\n",
       "      <td>2012</td>\n",
       "      <td>Non Fiction</td>\n",
       "    </tr>\n",
       "    <tr>\n",
       "      <th>275</th>\n",
       "      <td>Publication Manual of the American Psychologic...</td>\n",
       "      <td>American Psychological Association</td>\n",
       "      <td>4.5</td>\n",
       "      <td>8580</td>\n",
       "      <td>46</td>\n",
       "      <td>2013</td>\n",
       "      <td>Non Fiction</td>\n",
       "    </tr>\n",
       "  </tbody>\n",
       "</table>\n",
       "</div>"
      ],
      "text/plain": [
       "                                                  Name  \\\n",
       "271  Publication Manual of the American Psychologic...   \n",
       "272  Publication Manual of the American Psychologic...   \n",
       "273  Publication Manual of the American Psychologic...   \n",
       "274  Publication Manual of the American Psychologic...   \n",
       "275  Publication Manual of the American Psychologic...   \n",
       "\n",
       "                                 Author  User Rating  Reviews  Price  Year  \\\n",
       "271  American Psychological Association          4.5     8580     46  2009   \n",
       "272  American Psychological Association          4.5     8580     46  2010   \n",
       "273  American Psychological Association          4.5     8580     46  2011   \n",
       "274  American Psychological Association          4.5     8580     46  2012   \n",
       "275  American Psychological Association          4.5     8580     46  2013   \n",
       "\n",
       "           Genre  \n",
       "271  Non Fiction  \n",
       "272  Non Fiction  \n",
       "273  Non Fiction  \n",
       "274  Non Fiction  \n",
       "275  Non Fiction  "
      ]
     },
     "metadata": {},
     "output_type": "display_data"
    },
    {
     "data": {
      "text/html": [
       "<div>\n",
       "<style scoped>\n",
       "    .dataframe tbody tr th:only-of-type {\n",
       "        vertical-align: middle;\n",
       "    }\n",
       "\n",
       "    .dataframe tbody tr th {\n",
       "        vertical-align: top;\n",
       "    }\n",
       "\n",
       "    .dataframe thead th {\n",
       "        text-align: right;\n",
       "    }\n",
       "</style>\n",
       "<table border=\"1\" class=\"dataframe\">\n",
       "  <thead>\n",
       "    <tr style=\"text-align: right;\">\n",
       "      <th></th>\n",
       "      <th>Name</th>\n",
       "      <th>Author</th>\n",
       "      <th>User Rating</th>\n",
       "      <th>Reviews</th>\n",
       "      <th>Price</th>\n",
       "      <th>Year</th>\n",
       "      <th>Genre</th>\n",
       "    </tr>\n",
       "  </thead>\n",
       "  <tbody>\n",
       "    <tr>\n",
       "      <th>304</th>\n",
       "      <td>StrengthsFinder 2.0</td>\n",
       "      <td>Gallup</td>\n",
       "      <td>4.0</td>\n",
       "      <td>5069</td>\n",
       "      <td>17</td>\n",
       "      <td>2009</td>\n",
       "      <td>Non Fiction</td>\n",
       "    </tr>\n",
       "    <tr>\n",
       "      <th>305</th>\n",
       "      <td>StrengthsFinder 2.0</td>\n",
       "      <td>Gallup</td>\n",
       "      <td>4.0</td>\n",
       "      <td>5069</td>\n",
       "      <td>17</td>\n",
       "      <td>2010</td>\n",
       "      <td>Non Fiction</td>\n",
       "    </tr>\n",
       "    <tr>\n",
       "      <th>306</th>\n",
       "      <td>StrengthsFinder 2.0</td>\n",
       "      <td>Gallup</td>\n",
       "      <td>4.0</td>\n",
       "      <td>5069</td>\n",
       "      <td>17</td>\n",
       "      <td>2011</td>\n",
       "      <td>Non Fiction</td>\n",
       "    </tr>\n",
       "    <tr>\n",
       "      <th>307</th>\n",
       "      <td>StrengthsFinder 2.0</td>\n",
       "      <td>Gallup</td>\n",
       "      <td>4.0</td>\n",
       "      <td>5069</td>\n",
       "      <td>17</td>\n",
       "      <td>2012</td>\n",
       "      <td>Non Fiction</td>\n",
       "    </tr>\n",
       "    <tr>\n",
       "      <th>308</th>\n",
       "      <td>StrengthsFinder 2.0</td>\n",
       "      <td>Gallup</td>\n",
       "      <td>4.0</td>\n",
       "      <td>5069</td>\n",
       "      <td>17</td>\n",
       "      <td>2013</td>\n",
       "      <td>Non Fiction</td>\n",
       "    </tr>\n",
       "  </tbody>\n",
       "</table>\n",
       "</div>"
      ],
      "text/plain": [
       "                    Name  Author  User Rating  Reviews  Price  Year  \\\n",
       "304  StrengthsFinder 2.0  Gallup          4.0     5069     17  2009   \n",
       "305  StrengthsFinder 2.0  Gallup          4.0     5069     17  2010   \n",
       "306  StrengthsFinder 2.0  Gallup          4.0     5069     17  2011   \n",
       "307  StrengthsFinder 2.0  Gallup          4.0     5069     17  2012   \n",
       "308  StrengthsFinder 2.0  Gallup          4.0     5069     17  2013   \n",
       "\n",
       "           Genre  \n",
       "304  Non Fiction  \n",
       "305  Non Fiction  \n",
       "306  Non Fiction  \n",
       "307  Non Fiction  \n",
       "308  Non Fiction  "
      ]
     },
     "metadata": {},
     "output_type": "display_data"
    },
    {
     "data": {
      "text/html": [
       "<div>\n",
       "<style scoped>\n",
       "    .dataframe tbody tr th:only-of-type {\n",
       "        vertical-align: middle;\n",
       "    }\n",
       "\n",
       "    .dataframe tbody tr th {\n",
       "        vertical-align: top;\n",
       "    }\n",
       "\n",
       "    .dataframe thead th {\n",
       "        text-align: right;\n",
       "    }\n",
       "</style>\n",
       "<table border=\"1\" class=\"dataframe\">\n",
       "  <thead>\n",
       "    <tr style=\"text-align: right;\">\n",
       "      <th></th>\n",
       "      <th>Name</th>\n",
       "      <th>Author</th>\n",
       "      <th>User Rating</th>\n",
       "      <th>Reviews</th>\n",
       "      <th>Price</th>\n",
       "      <th>Year</th>\n",
       "      <th>Genre</th>\n",
       "    </tr>\n",
       "  </thead>\n",
       "  <tbody>\n",
       "    <tr>\n",
       "      <th>245</th>\n",
       "      <td>Oh, the Places You'll Go!</td>\n",
       "      <td>Dr. Seuss</td>\n",
       "      <td>4.9</td>\n",
       "      <td>21834</td>\n",
       "      <td>8</td>\n",
       "      <td>2012</td>\n",
       "      <td>Fiction</td>\n",
       "    </tr>\n",
       "    <tr>\n",
       "      <th>246</th>\n",
       "      <td>Oh, the Places You'll Go!</td>\n",
       "      <td>Dr. Seuss</td>\n",
       "      <td>4.9</td>\n",
       "      <td>21834</td>\n",
       "      <td>8</td>\n",
       "      <td>2013</td>\n",
       "      <td>Fiction</td>\n",
       "    </tr>\n",
       "    <tr>\n",
       "      <th>247</th>\n",
       "      <td>Oh, the Places You'll Go!</td>\n",
       "      <td>Dr. Seuss</td>\n",
       "      <td>4.9</td>\n",
       "      <td>21834</td>\n",
       "      <td>8</td>\n",
       "      <td>2014</td>\n",
       "      <td>Fiction</td>\n",
       "    </tr>\n",
       "    <tr>\n",
       "      <th>248</th>\n",
       "      <td>Oh, the Places You'll Go!</td>\n",
       "      <td>Dr. Seuss</td>\n",
       "      <td>4.9</td>\n",
       "      <td>21834</td>\n",
       "      <td>8</td>\n",
       "      <td>2015</td>\n",
       "      <td>Fiction</td>\n",
       "    </tr>\n",
       "    <tr>\n",
       "      <th>249</th>\n",
       "      <td>Oh, the Places You'll Go!</td>\n",
       "      <td>Dr. Seuss</td>\n",
       "      <td>4.9</td>\n",
       "      <td>21834</td>\n",
       "      <td>8</td>\n",
       "      <td>2016</td>\n",
       "      <td>Fiction</td>\n",
       "    </tr>\n",
       "  </tbody>\n",
       "</table>\n",
       "</div>"
      ],
      "text/plain": [
       "                          Name     Author  User Rating  Reviews  Price  Year  \\\n",
       "245  Oh, the Places You'll Go!  Dr. Seuss          4.9    21834      8  2012   \n",
       "246  Oh, the Places You'll Go!  Dr. Seuss          4.9    21834      8  2013   \n",
       "247  Oh, the Places You'll Go!  Dr. Seuss          4.9    21834      8  2014   \n",
       "248  Oh, the Places You'll Go!  Dr. Seuss          4.9    21834      8  2015   \n",
       "249  Oh, the Places You'll Go!  Dr. Seuss          4.9    21834      8  2016   \n",
       "\n",
       "       Genre  \n",
       "245  Fiction  \n",
       "246  Fiction  \n",
       "247  Fiction  \n",
       "248  Fiction  \n",
       "249  Fiction  "
      ]
     },
     "metadata": {},
     "output_type": "display_data"
    },
    {
     "name": "stdout",
     "output_type": "stream",
     "text": [
      "shape of the dataset before dropping duplicates is : (550, 7)\n",
      "shape of the dataset after dropping duplicates is : (550, 7)\n"
     ]
    }
   ],
   "source": [
    "display(amazon[amazon['Name']=='Publication Manual of the American Psychological Association, 6th Edition'].head())\n",
    "display(amazon[amazon['Name']=='StrengthsFinder 2.0'].head())\n",
    "display(amazon[amazon['Name']==\"Oh, the Places You'll Go!\"].head())\n",
    "\n",
    "# Dropping duplicates values\n",
    "print(\"shape of the dataset before dropping duplicates is : {}\".format(amazon.shape))\n",
    "amazon.drop_duplicates(inplace=True)\n",
    "print(\"shape of the dataset after dropping duplicates is : {}\".format(amazon.shape))\n"
   ]
  },
  {
   "cell_type": "markdown",
   "metadata": {
    "papermill": {
     "duration": 0.029708,
     "end_time": "2020-12-29T02:11:23.254932",
     "exception": false,
     "start_time": "2020-12-29T02:11:23.225224",
     "status": "completed"
    },
    "tags": []
   },
   "source": [
    "The names that appear more than one time in the dataset are indeed duplicated since they were released in several years. The \"drop_duplicates\" function doesn't drop any value. There are indeed no duplicates in the dataset."
   ]
  },
  {
   "cell_type": "code",
   "execution_count": 7,
   "metadata": {
    "execution": {
     "iopub.execute_input": "2020-12-29T02:11:23.327502Z",
     "iopub.status.busy": "2020-12-29T02:11:23.326633Z",
     "iopub.status.idle": "2020-12-29T02:11:23.460510Z",
     "shell.execute_reply": "2020-12-29T02:11:23.459826Z"
    },
    "papermill": {
     "duration": 0.175671,
     "end_time": "2020-12-29T02:11:23.460623",
     "exception": false,
     "start_time": "2020-12-29T02:11:23.284952",
     "status": "completed"
    },
    "tags": []
   },
   "outputs": [
    {
     "name": "stdout",
     "output_type": "stream",
     "text": [
      "Genre: \n",
      " Non Fiction    310\n",
      "Fiction        240\n",
      "Name: Genre, dtype: int64\n"
     ]
    },
    {
     "data": {
      "image/png": "[encoded data removed]",
      "text/plain": [
       "<Figure size 432x288 with 1 Axes>"
      ]
     },
     "metadata": {
      "needs_background": "light"
     },
     "output_type": "display_data"
    }
   ],
   "source": [
    "# Genre\n",
    "print(\"Genre:\", '\\n', amazon['Genre'].value_counts())\n",
    "\n",
    "sns.countplot('Genre', data=amazon, palette='Set3')\n",
    "plt.show()"
   ]
  },
  {
   "cell_type": "markdown",
   "metadata": {
    "papermill": {
     "duration": 0.031284,
     "end_time": "2020-12-29T02:11:23.523589",
     "exception": false,
     "start_time": "2020-12-29T02:11:23.492305",
     "status": "completed"
    },
    "tags": []
   },
   "source": [
    "The 'Genre' feature shows balanced data and no inconsistencies."
   ]
  },
  {
   "cell_type": "markdown",
   "metadata": {
    "papermill": {
     "duration": 0.031043,
     "end_time": "2020-12-29T02:11:23.585954",
     "exception": false,
     "start_time": "2020-12-29T02:11:23.554911",
     "status": "completed"
    },
    "tags": []
   },
   "source": [
    "### Numbers"
   ]
  },
  {
   "cell_type": "code",
   "execution_count": 8,
   "metadata": {
    "execution": {
     "iopub.execute_input": "2020-12-29T02:11:23.662885Z",
     "iopub.status.busy": "2020-12-29T02:11:23.662183Z",
     "iopub.status.idle": "2020-12-29T02:11:24.694757Z",
     "shell.execute_reply": "2020-12-29T02:11:24.694224Z"
    },
    "papermill": {
     "duration": 1.077694,
     "end_time": "2020-12-29T02:11:24.694891",
     "exception": false,
     "start_time": "2020-12-29T02:11:23.617197",
     "status": "completed"
    },
    "tags": []
   },
   "outputs": [
    {
     "data": {
      "image/png": "[encoded data removed]",
      "text/plain": [
       "<Figure size 1440x720 with 4 Axes>"
      ]
     },
     "metadata": {
      "needs_background": "light"
     },
     "output_type": "display_data"
    },
    {
     "data": {
      "text/html": [
       "<div>\n",
       "<style scoped>\n",
       "    .dataframe tbody tr th:only-of-type {\n",
       "        vertical-align: middle;\n",
       "    }\n",
       "\n",
       "    .dataframe tbody tr th {\n",
       "        vertical-align: top;\n",
       "    }\n",
       "\n",
       "    .dataframe thead th {\n",
       "        text-align: right;\n",
       "    }\n",
       "</style>\n",
       "<table border=\"1\" class=\"dataframe\">\n",
       "  <thead>\n",
       "    <tr style=\"text-align: right;\">\n",
       "      <th></th>\n",
       "      <th>User Rating</th>\n",
       "      <th>User Rating Count</th>\n",
       "      <th>Reviews</th>\n",
       "      <th>Reviews Count</th>\n",
       "      <th>Price</th>\n",
       "      <th>Price Count</th>\n",
       "    </tr>\n",
       "  </thead>\n",
       "  <tbody>\n",
       "    <tr>\n",
       "      <th>0</th>\n",
       "      <td>(3.298, 3.46]</td>\n",
       "      <td>1</td>\n",
       "      <td>(-50.804, 8817.4]</td>\n",
       "      <td>287</td>\n",
       "      <td>(-0.105, 10.5]</td>\n",
       "      <td>266</td>\n",
       "    </tr>\n",
       "    <tr>\n",
       "      <th>1</th>\n",
       "      <td>(3.46, 3.62]</td>\n",
       "      <td>1</td>\n",
       "      <td>(8817.4, 17597.8]</td>\n",
       "      <td>131</td>\n",
       "      <td>(10.5, 21.0]</td>\n",
       "      <td>225</td>\n",
       "    </tr>\n",
       "    <tr>\n",
       "      <th>2</th>\n",
       "      <td>(3.62, 3.78]</td>\n",
       "      <td>0</td>\n",
       "      <td>(17597.8, 26378.2]</td>\n",
       "      <td>87</td>\n",
       "      <td>(21.0, 31.5]</td>\n",
       "      <td>33</td>\n",
       "    </tr>\n",
       "    <tr>\n",
       "      <th>3</th>\n",
       "      <td>(3.78, 3.94]</td>\n",
       "      <td>5</td>\n",
       "      <td>(26378.2, 35158.6]</td>\n",
       "      <td>25</td>\n",
       "      <td>(31.5, 42.0]</td>\n",
       "      <td>10</td>\n",
       "    </tr>\n",
       "    <tr>\n",
       "      <th>4</th>\n",
       "      <td>(3.94, 4.1]</td>\n",
       "      <td>20</td>\n",
       "      <td>(35158.6, 43939.0]</td>\n",
       "      <td>4</td>\n",
       "      <td>(42.0, 52.5]</td>\n",
       "      <td>11</td>\n",
       "    </tr>\n",
       "    <tr>\n",
       "      <th>5</th>\n",
       "      <td>(4.1, 4.26]</td>\n",
       "      <td>8</td>\n",
       "      <td>(43939.0, 52719.4]</td>\n",
       "      <td>8</td>\n",
       "      <td>(52.5, 63.0]</td>\n",
       "      <td>2</td>\n",
       "    </tr>\n",
       "    <tr>\n",
       "      <th>6</th>\n",
       "      <td>(4.26, 4.42]</td>\n",
       "      <td>63</td>\n",
       "      <td>(52719.4, 61499.8]</td>\n",
       "      <td>5</td>\n",
       "      <td>(63.0, 73.5]</td>\n",
       "      <td>0</td>\n",
       "    </tr>\n",
       "    <tr>\n",
       "      <th>7</th>\n",
       "      <td>(4.42, 4.58]</td>\n",
       "      <td>60</td>\n",
       "      <td>(61499.8, 70280.2]</td>\n",
       "      <td>0</td>\n",
       "      <td>(73.5, 84.0]</td>\n",
       "      <td>1</td>\n",
       "    </tr>\n",
       "    <tr>\n",
       "      <th>8</th>\n",
       "      <td>(4.58, 4.74]</td>\n",
       "      <td>213</td>\n",
       "      <td>(70280.2, 79060.6]</td>\n",
       "      <td>0</td>\n",
       "      <td>(84.0, 94.5]</td>\n",
       "      <td>0</td>\n",
       "    </tr>\n",
       "    <tr>\n",
       "      <th>9</th>\n",
       "      <td>(4.74, 4.9]</td>\n",
       "      <td>179</td>\n",
       "      <td>(79060.6, 87841.0]</td>\n",
       "      <td>3</td>\n",
       "      <td>(94.5, 105.0]</td>\n",
       "      <td>2</td>\n",
       "    </tr>\n",
       "  </tbody>\n",
       "</table>\n",
       "</div>"
      ],
      "text/plain": [
       "     User Rating  User Rating Count             Reviews  Reviews Count  \\\n",
       "0  (3.298, 3.46]                  1   (-50.804, 8817.4]            287   \n",
       "1   (3.46, 3.62]                  1   (8817.4, 17597.8]            131   \n",
       "2   (3.62, 3.78]                  0  (17597.8, 26378.2]             87   \n",
       "3   (3.78, 3.94]                  5  (26378.2, 35158.6]             25   \n",
       "4    (3.94, 4.1]                 20  (35158.6, 43939.0]              4   \n",
       "5    (4.1, 4.26]                  8  (43939.0, 52719.4]              8   \n",
       "6   (4.26, 4.42]                 63  (52719.4, 61499.8]              5   \n",
       "7   (4.42, 4.58]                 60  (61499.8, 70280.2]              0   \n",
       "8   (4.58, 4.74]                213  (70280.2, 79060.6]              0   \n",
       "9    (4.74, 4.9]                179  (79060.6, 87841.0]              3   \n",
       "\n",
       "            Price  Price Count  \n",
       "0  (-0.105, 10.5]          266  \n",
       "1    (10.5, 21.0]          225  \n",
       "2    (21.0, 31.5]           33  \n",
       "3    (31.5, 42.0]           10  \n",
       "4    (42.0, 52.5]           11  \n",
       "5    (52.5, 63.0]            2  \n",
       "6    (63.0, 73.5]            0  \n",
       "7    (73.5, 84.0]            1  \n",
       "8    (84.0, 94.5]            0  \n",
       "9   (94.5, 105.0]            2  "
      ]
     },
     "metadata": {},
     "output_type": "display_data"
    }
   ],
   "source": [
    "numbers = ['User Rating', 'Reviews', 'Price']\n",
    "\n",
    "amazon.loc[:,numbers].hist(color='salmon', figsize=(20,10), edgecolor='black', bins=10)\n",
    "#A histogram displays numerical data by grouping data into \"bins\" of equal width. Each bin is plotted as a bar whose height corresponds to how many data points are in that bin. Bins are also sometimes called \"intervals\", \"classes\", or \"buckets\".\n",
    "#amazon.loc[:,numbers]-> entire numbers column\n",
    "plt.show()\n",
    "\n",
    "\n",
    "#Pandas cut() function is used to segregate array elements into separate bins. The cut() function works only on one-dimensional array-like objects.\n",
    "rating_binned = pd.cut(amazon['User Rating'], bins=10)\n",
    "rating_binned = pd.DataFrame(pd.DataFrame(rating_binned).groupby('User Rating').size(), columns=['User Rating Count']).reset_index()\n",
    "\n",
    "Reviews_binned = pd.cut(amazon['Reviews'], bins=10)\n",
    "Reviews_binned = pd.DataFrame(pd.DataFrame(Reviews_binned).groupby('Reviews').size(), columns=['Reviews Count']).reset_index()\n",
    "\n",
    "Price_binned = pd.cut(amazon['Price'], bins=10)\n",
    "Price_binned = pd.DataFrame(pd.DataFrame(Price_binned).groupby('Price').size(), columns=['Price Count']).reset_index()\n",
    "\n",
    "display(pd.concat([rating_binned, Reviews_binned, Price_binned], axis=1))\n"
   ]
  },
  {
   "cell_type": "markdown",
   "metadata": {
    "papermill": {
     "duration": 0.032606,
     "end_time": "2020-12-29T02:11:24.760558",
     "exception": false,
     "start_time": "2020-12-29T02:11:24.727952",
     "status": "completed"
    },
    "tags": []
   },
   "source": [
    "Even though the data presents some outliers, they are not going to be dropped (yet) until we see which books belong to these outliers in the tivia section."
   ]
  },
  {
   "cell_type": "markdown",
   "metadata": {
    "papermill": {
     "duration": 0.0328,
     "end_time": "2020-12-29T02:11:24.826358",
     "exception": false,
     "start_time": "2020-12-29T02:11:24.793558",
     "status": "completed"
    },
    "tags": []
   },
   "source": [
    "### dates"
   ]
  },
  {
   "cell_type": "code",
   "execution_count": 9,
   "metadata": {
    "execution": {
     "iopub.execute_input": "2020-12-29T02:11:24.908174Z",
     "iopub.status.busy": "2020-12-29T02:11:24.907356Z",
     "iopub.status.idle": "2020-12-29T02:11:25.132228Z",
     "shell.execute_reply": "2020-12-29T02:11:25.131541Z"
    },
    "papermill": {
     "duration": 0.27205,
     "end_time": "2020-12-29T02:11:25.132350",
     "exception": false,
     "start_time": "2020-12-29T02:11:24.860300",
     "status": "completed"
    },
    "tags": []
   },
   "outputs": [
    {
     "name": "stdout",
     "output_type": "stream",
     "text": [
      "Year: \n",
      " 2019    50\n",
      "2018    50\n",
      "2017    50\n",
      "2016    50\n",
      "2015    50\n",
      "2014    50\n",
      "2013    50\n",
      "2012    50\n",
      "2011    50\n",
      "2010    50\n",
      "2009    50\n",
      "Name: Year, dtype: int64\n"
     ]
    },
    {
     "data": {
      "image/png": "[encoded data removed]",
      "text/plain": [
       "<Figure size 432x288 with 1 Axes>"
      ]
     },
     "metadata": {
      "needs_background": "light"
     },
     "output_type": "display_data"
    }
   ],
   "source": [
    "# Year\n",
    "print(\"Year:\", '\\n', amazon['Year'].value_counts())\n",
    "\n",
    "sns.countplot('Year', data=amazon, palette='Set3')\n",
    "plt.show()"
   ]
  },
  {
   "cell_type": "markdown",
   "metadata": {
    "papermill": {
     "duration": 0.034763,
     "end_time": "2020-12-29T02:11:25.201689",
     "exception": false,
     "start_time": "2020-12-29T02:11:25.166926",
     "status": "completed"
    },
    "tags": []
   },
   "source": [
    "the data again doesn't show any inconsistencies and has a highly balanced shape "
   ]
  },
  {
   "cell_type": "markdown",
   "metadata": {
    "papermill": {
     "duration": 0.034431,
     "end_time": "2020-12-29T02:11:25.271243",
     "exception": false,
     "start_time": "2020-12-29T02:11:25.236812",
     "status": "completed"
    },
    "tags": []
   },
   "source": [
    "# 2. Data Analysis"
   ]
  },
  {
   "cell_type": "markdown",
   "metadata": {
    "papermill": {
     "duration": 0.034305,
     "end_time": "2020-12-29T02:11:25.340280",
     "exception": false,
     "start_time": "2020-12-29T02:11:25.305975",
     "status": "completed"
    },
    "tags": []
   },
   "source": [
    "## 2.1 'Genre' performance as per 'User Rating'"
   ]
  },
  {
   "cell_type": "code",
   "execution_count": 10,
   "metadata": {
    "execution": {
     "iopub.execute_input": "2020-12-29T02:11:25.418674Z",
     "iopub.status.busy": "2020-12-29T02:11:25.417986Z",
     "iopub.status.idle": "2020-12-29T02:11:25.953095Z",
     "shell.execute_reply": "2020-12-29T02:11:25.952385Z"
    },
    "papermill": {
     "duration": 0.578487,
     "end_time": "2020-12-29T02:11:25.953215",
     "exception": false,
     "start_time": "2020-12-29T02:11:25.374728",
     "status": "completed"
    },
    "tags": []
   },
   "outputs": [
    {
     "data": {
      "image/png": "[encoded data removed]",
      "text/plain": [
       "<Figure size 1008x360 with 2 Axes>"
      ]
     },
     "metadata": {
      "needs_background": "light"
     },
     "output_type": "display_data"
    },
    {
     "data": {
      "text/html": [
       "<div>\n",
       "<style scoped>\n",
       "    .dataframe tbody tr th:only-of-type {\n",
       "        vertical-align: middle;\n",
       "    }\n",
       "\n",
       "    .dataframe tbody tr th {\n",
       "        vertical-align: top;\n",
       "    }\n",
       "\n",
       "    .dataframe thead th {\n",
       "        text-align: right;\n",
       "    }\n",
       "</style>\n",
       "<table border=\"1\" class=\"dataframe\">\n",
       "  <thead>\n",
       "    <tr style=\"text-align: right;\">\n",
       "      <th></th>\n",
       "      <th>User Rating</th>\n",
       "      <th>Rating Fiction</th>\n",
       "      <th>Rating Non Fiction</th>\n",
       "    </tr>\n",
       "    <tr>\n",
       "      <th>Year</th>\n",
       "      <th></th>\n",
       "      <th></th>\n",
       "      <th></th>\n",
       "    </tr>\n",
       "  </thead>\n",
       "  <tbody>\n",
       "    <tr>\n",
       "      <th>2009</th>\n",
       "      <td>4.584</td>\n",
       "      <td>4.592</td>\n",
       "      <td>4.577</td>\n",
       "    </tr>\n",
       "    <tr>\n",
       "      <th>2010</th>\n",
       "      <td>4.558</td>\n",
       "      <td>4.615</td>\n",
       "      <td>4.520</td>\n",
       "    </tr>\n",
       "    <tr>\n",
       "      <th>2011</th>\n",
       "      <td>4.558</td>\n",
       "      <td>4.619</td>\n",
       "      <td>4.514</td>\n",
       "    </tr>\n",
       "    <tr>\n",
       "      <th>2012</th>\n",
       "      <td>4.532</td>\n",
       "      <td>4.495</td>\n",
       "      <td>4.559</td>\n",
       "    </tr>\n",
       "    <tr>\n",
       "      <th>2013</th>\n",
       "      <td>4.554</td>\n",
       "      <td>4.546</td>\n",
       "      <td>4.562</td>\n",
       "    </tr>\n",
       "    <tr>\n",
       "      <th>2014</th>\n",
       "      <td>4.622</td>\n",
       "      <td>4.631</td>\n",
       "      <td>4.610</td>\n",
       "    </tr>\n",
       "    <tr>\n",
       "      <th>2015</th>\n",
       "      <td>4.648</td>\n",
       "      <td>4.653</td>\n",
       "      <td>4.645</td>\n",
       "    </tr>\n",
       "    <tr>\n",
       "      <th>2016</th>\n",
       "      <td>4.678</td>\n",
       "      <td>4.716</td>\n",
       "      <td>4.655</td>\n",
       "    </tr>\n",
       "    <tr>\n",
       "      <th>2017</th>\n",
       "      <td>4.660</td>\n",
       "      <td>4.737</td>\n",
       "      <td>4.588</td>\n",
       "    </tr>\n",
       "    <tr>\n",
       "      <th>2018</th>\n",
       "      <td>4.668</td>\n",
       "      <td>4.738</td>\n",
       "      <td>4.617</td>\n",
       "    </tr>\n",
       "    <tr>\n",
       "      <th>2019</th>\n",
       "      <td>4.740</td>\n",
       "      <td>4.820</td>\n",
       "      <td>4.687</td>\n",
       "    </tr>\n",
       "  </tbody>\n",
       "</table>\n",
       "</div>"
      ],
      "text/plain": [
       "      User Rating  Rating Fiction  Rating Non Fiction\n",
       "Year                                                 \n",
       "2009        4.584           4.592               4.577\n",
       "2010        4.558           4.615               4.520\n",
       "2011        4.558           4.619               4.514\n",
       "2012        4.532           4.495               4.559\n",
       "2013        4.554           4.546               4.562\n",
       "2014        4.622           4.631               4.610\n",
       "2015        4.648           4.653               4.645\n",
       "2016        4.678           4.716               4.655\n",
       "2017        4.660           4.737               4.588\n",
       "2018        4.668           4.738               4.617\n",
       "2019        4.740           4.820               4.687"
      ]
     },
     "metadata": {},
     "output_type": "display_data"
    }
   ],
   "source": [
    "fig, ax = plt.subplots(1,2, figsize=(14,5))\n",
    "\n",
    "rating = amazon.groupby('Year')['User Rating'].mean()\n",
    "rating = rating.reset_index()\n",
    "\n",
    "sns.lineplot(x='Year', y='User Rating', data=amazon, ci=None, markers=True, ax=ax[0])\n",
    "ax[0].set_xticks(ticks=amazon['Year'].value_counts(ascending=True).index)\n",
    "\n",
    "sns.lineplot(x='Year', y='User Rating', hue='Genre', data=amazon, ci=None, markers=True, ax=ax[1])\n",
    "ax[1].set_xticks(ticks=amazon['Year'].value_counts(ascending=True).index)\n",
    "\n",
    "plt.show()\n",
    "\n",
    "time = pd.DataFrame(amazon.groupby('Year')['User Rating'].mean())\n",
    "time_genre = pd.DataFrame(amazon.groupby(['Genre', 'Year'])['User Rating'].mean())\n",
    "\n",
    "time['Rating Fiction'] = list(np.around(time_genre.loc['Fiction'].reset_index()['User Rating'], 3))\n",
    "time['Rating Non Fiction'] = list(np.around(time_genre.loc['Non Fiction'].reset_index()['User Rating'], 3))\n",
    "display(time)"
   ]
  },
  {
   "cell_type": "markdown",
   "metadata": {
    "papermill": {
     "duration": 0.036306,
     "end_time": "2020-12-29T02:11:26.026757",
     "exception": false,
     "start_time": "2020-12-29T02:11:25.990451",
     "status": "completed"
    },
    "tags": []
   },
   "source": [
    "* Since 2012, the books have been performing well in terms of average 'User Rating', showing an increasing trend. In 2016, though, the trend had a small decrease of 0.018. Taking a look at the performance per genre, we can see that the small decrease was because of a sloppy performance of Non fiction books that year, decrease from 4.655 to 4.588. However, Non fiction books were able to recover themeselves and revert the decreasing trend just in 2017\n",
    "* Except from 2012 and 2013, Fiction books have been performing better that Non Fiction books"
   ]
  },
  {
   "cell_type": "markdown",
   "metadata": {
    "papermill": {
     "duration": 0.036432,
     "end_time": "2020-12-29T02:11:26.099223",
     "exception": false,
     "start_time": "2020-12-29T02:11:26.062791",
     "status": "completed"
    },
    "tags": []
   },
   "source": [
    "## 2.2 Prices behaviour"
   ]
  },
  {
   "cell_type": "code",
   "execution_count": 11,
   "metadata": {
    "execution": {
     "iopub.execute_input": "2020-12-29T02:11:26.198161Z",
     "iopub.status.busy": "2020-12-29T02:11:26.192366Z",
     "iopub.status.idle": "2020-12-29T02:11:26.737756Z",
     "shell.execute_reply": "2020-12-29T02:11:26.736588Z"
    },
    "papermill": {
     "duration": 0.601663,
     "end_time": "2020-12-29T02:11:26.737954",
     "exception": false,
     "start_time": "2020-12-29T02:11:26.136291",
     "status": "completed"
    },
    "tags": []
   },
   "outputs": [
    {
     "data": {
      "image/png": "[encoded data removed]",
      "text/plain": [
       "<Figure size 1440x360 with 2 Axes>"
      ]
     },
     "metadata": {
      "needs_background": "light"
     },
     "output_type": "display_data"
    },
    {
     "data": {
      "text/html": [
       "<div>\n",
       "<style scoped>\n",
       "    .dataframe tbody tr th:only-of-type {\n",
       "        vertical-align: middle;\n",
       "    }\n",
       "\n",
       "    .dataframe tbody tr th {\n",
       "        vertical-align: top;\n",
       "    }\n",
       "\n",
       "    .dataframe thead th {\n",
       "        text-align: right;\n",
       "    }\n",
       "</style>\n",
       "<table border=\"1\" class=\"dataframe\">\n",
       "  <thead>\n",
       "    <tr style=\"text-align: right;\">\n",
       "      <th></th>\n",
       "      <th>Price</th>\n",
       "      <th>Price Fiction</th>\n",
       "      <th>Price Non Fiction</th>\n",
       "    </tr>\n",
       "    <tr>\n",
       "      <th>Year</th>\n",
       "      <th></th>\n",
       "      <th></th>\n",
       "      <th></th>\n",
       "    </tr>\n",
       "  </thead>\n",
       "  <tbody>\n",
       "    <tr>\n",
       "      <th>2009</th>\n",
       "      <td>15.40</td>\n",
       "      <td>15.583</td>\n",
       "      <td>15.231</td>\n",
       "    </tr>\n",
       "    <tr>\n",
       "      <th>2010</th>\n",
       "      <td>13.48</td>\n",
       "      <td>9.700</td>\n",
       "      <td>16.000</td>\n",
       "    </tr>\n",
       "    <tr>\n",
       "      <th>2011</th>\n",
       "      <td>15.10</td>\n",
       "      <td>11.619</td>\n",
       "      <td>17.621</td>\n",
       "    </tr>\n",
       "    <tr>\n",
       "      <th>2012</th>\n",
       "      <td>15.30</td>\n",
       "      <td>12.286</td>\n",
       "      <td>17.483</td>\n",
       "    </tr>\n",
       "    <tr>\n",
       "      <th>2013</th>\n",
       "      <td>14.60</td>\n",
       "      <td>10.708</td>\n",
       "      <td>18.192</td>\n",
       "    </tr>\n",
       "    <tr>\n",
       "      <th>2014</th>\n",
       "      <td>14.64</td>\n",
       "      <td>10.172</td>\n",
       "      <td>20.810</td>\n",
       "    </tr>\n",
       "    <tr>\n",
       "      <th>2015</th>\n",
       "      <td>10.42</td>\n",
       "      <td>9.353</td>\n",
       "      <td>10.970</td>\n",
       "    </tr>\n",
       "    <tr>\n",
       "      <th>2016</th>\n",
       "      <td>13.18</td>\n",
       "      <td>12.632</td>\n",
       "      <td>13.516</td>\n",
       "    </tr>\n",
       "    <tr>\n",
       "      <th>2017</th>\n",
       "      <td>11.38</td>\n",
       "      <td>8.833</td>\n",
       "      <td>13.731</td>\n",
       "    </tr>\n",
       "    <tr>\n",
       "      <th>2018</th>\n",
       "      <td>10.52</td>\n",
       "      <td>8.762</td>\n",
       "      <td>11.793</td>\n",
       "    </tr>\n",
       "    <tr>\n",
       "      <th>2019</th>\n",
       "      <td>10.08</td>\n",
       "      <td>9.350</td>\n",
       "      <td>10.567</td>\n",
       "    </tr>\n",
       "  </tbody>\n",
       "</table>\n",
       "</div>"
      ],
      "text/plain": [
       "      Price  Price Fiction  Price Non Fiction\n",
       "Year                                         \n",
       "2009  15.40         15.583             15.231\n",
       "2010  13.48          9.700             16.000\n",
       "2011  15.10         11.619             17.621\n",
       "2012  15.30         12.286             17.483\n",
       "2013  14.60         10.708             18.192\n",
       "2014  14.64         10.172             20.810\n",
       "2015  10.42          9.353             10.970\n",
       "2016  13.18         12.632             13.516\n",
       "2017  11.38          8.833             13.731\n",
       "2018  10.52          8.762             11.793\n",
       "2019  10.08          9.350             10.567"
      ]
     },
     "metadata": {},
     "output_type": "display_data"
    }
   ],
   "source": [
    "fig, ax = plt.subplots(1,2, figsize=(20,5))\n",
    "\n",
    "price = amazon.groupby('Year')['Price'].mean()\n",
    "price = price.reset_index()\n",
    "\n",
    "sns.lineplot(x='Year', y='Price', data=amazon, ci=None, markers=True, ax=ax[0])\n",
    "ax[0].set_xticks(ticks=amazon['Year'].value_counts(ascending=True).index)\n",
    "\n",
    "sns.lineplot(x='Year', y='Price', data=amazon, ci=None, markers=True, ax=ax[1], hue='Genre')\n",
    "ax[1].set_xticks(ticks=amazon['Year'].value_counts(ascending=True).index)\n",
    "\n",
    "plt.show()\n",
    "\n",
    "time = pd.DataFrame(amazon.groupby('Year')['Price'].mean())\n",
    "time_genre = pd.DataFrame(amazon.groupby(['Genre', 'Year'])['Price'].mean())\n",
    "\n",
    "time['Price Fiction'] = list(np.around(time_genre.loc['Fiction'].reset_index()['Price'], 3))\n",
    "time['Price Non Fiction'] = list(np.around(time_genre.loc['Non Fiction'].reset_index()['Price'], 3))\n",
    "display(time)"
   ]
  },
  {
   "cell_type": "markdown",
   "metadata": {
    "papermill": {
     "duration": 0.046752,
     "end_time": "2020-12-29T02:11:26.844487",
     "exception": false,
     "start_time": "2020-12-29T02:11:26.797735",
     "status": "completed"
    },
    "tags": []
   },
   "source": [
    "* Overall, prices show a decreasing trend, having a drastic decrease in 2014, due to the Non Fiction genre, which has been showing high prices in comparisson to Fiction books prices untils 2014. Perhaps an attempt to catch up with the Fiction genre in terms of User Rating?\n",
    "* There was an increase in prices in 2015 from both genres. Nevertheless, the trend decreased again in 2016."
   ]
  },
  {
   "cell_type": "markdown",
   "metadata": {
    "papermill": {
     "duration": 0.039742,
     "end_time": "2020-12-29T02:11:26.924361",
     "exception": false,
     "start_time": "2020-12-29T02:11:26.884619",
     "status": "completed"
    },
    "tags": []
   },
   "source": [
    "## 2.3 Prices and User Rating"
   ]
  },
  {
   "cell_type": "code",
   "execution_count": 12,
   "metadata": {
    "execution": {
     "iopub.execute_input": "2020-12-29T02:11:27.018346Z",
     "iopub.status.busy": "2020-12-29T02:11:27.017607Z",
     "iopub.status.idle": "2020-12-29T02:11:27.413860Z",
     "shell.execute_reply": "2020-12-29T02:11:27.414370Z"
    },
    "papermill": {
     "duration": 0.450666,
     "end_time": "2020-12-29T02:11:27.414588",
     "exception": false,
     "start_time": "2020-12-29T02:11:26.963922",
     "status": "completed"
    },
    "tags": []
   },
   "outputs": [
    {
     "data": {
      "image/png": "[encoded data removed]",
      "text/plain": [
       "<Figure size 504x360 with 2 Axes>"
      ]
     },
     "metadata": {},
     "output_type": "display_data"
    }
   ],
   "source": [
    "fig, ax = plt.subplots(figsize=(7,5))\n",
    "\n",
    "ax.set_title('Average Price and Average User Rating')\n",
    "\n",
    "ax.plot(amazon.groupby('Year')['User Rating'].mean())\n",
    "ax.tick_params('y', colors='blue')\n",
    "ax.set_ylabel('User Rating', color='blue')\n",
    "\n",
    "#ax = twinx() create a twin of Axes for generating a plot with a sharex x-axis but independent y axis. The y-axis of self will have ticks on left and the returned axes will have ticks on the right.\n",
    "ax2 = ax.twinx()\n",
    "ax2.plot(amazon.groupby('Year')['Price'].mean(), color='darkorange')\n",
    "ax2.tick_params('y', colors='darkorange')\n",
    "ax2.set_ylabel('Price', color='darkorange')\n",
    "\n",
    "ax.set_xticks(ticks=amazon['Year'].value_counts(ascending=True).index)\n",
    "\n",
    "plt.show()\n",
    "\n"
   ]
  },
  {
   "cell_type": "code",
   "execution_count": 13,
   "metadata": {
    "execution": {
     "iopub.execute_input": "2020-12-29T02:11:27.499350Z",
     "iopub.status.busy": "2020-12-29T02:11:27.498643Z",
     "iopub.status.idle": "2020-12-29T02:11:28.322586Z",
     "shell.execute_reply": "2020-12-29T02:11:28.321766Z"
    },
    "papermill": {
     "duration": 0.867242,
     "end_time": "2020-12-29T02:11:28.322706",
     "exception": false,
     "start_time": "2020-12-29T02:11:27.455464",
     "status": "completed"
    },
    "tags": []
   },
   "outputs": [
    {
     "data": {
      "image/png": "[encoded data removed]",
      "text/plain": [
       "<Figure size 1440x360 with 4 Axes>"
      ]
     },
     "metadata": {},
     "output_type": "display_data"
    }
   ],
   "source": [
    "fig, ax = plt.subplots(1, 2, figsize=(20,5))\n",
    "\n",
    "fiction = amazon[amazon['Genre']=='Fiction']\n",
    "\n",
    "Nonfiction = amazon[amazon['Genre']=='Non Fiction']\n",
    "\n",
    "\n",
    "ax[0].set_title('Average Price and Average User Rating (Fiction)')\n",
    "\n",
    "ax[0].plot(fiction.groupby('Year')['User Rating'].mean())\n",
    "ax[0].tick_params('y', colors='blue')\n",
    "ax[0].set_ylabel('User Rating', color='blue')\n",
    "\n",
    "ax2 = ax[0].twinx()\n",
    "ax2.plot(fiction.groupby('Year')['Price'].mean(), color='darkorange')\n",
    "ax2.tick_params('y', colors='darkorange')\n",
    "ax2.set_ylabel('Price', color='darkorange')\n",
    "\n",
    "ax[0].set_xticks(ticks=amazon['Year'].value_counts(ascending=True).index)\n",
    "\n",
    "\n",
    "ax[1].set_title('Average Price and Average User Rating (Non Fiction)')\n",
    "\n",
    "ax[1].plot(Nonfiction.groupby('Year')['User Rating'].mean())\n",
    "ax[1].tick_params('y', colors='blue')\n",
    "ax[1].set_ylabel('User Rating', color='blue')\n",
    "\n",
    "ax3 = ax[1].twinx()\n",
    "ax3.plot(Nonfiction.groupby('Year')['Price'].mean(), color='darkorange')\n",
    "ax3.tick_params('y', colors='darkorange')\n",
    "ax3.set_ylabel('Price', color='darkorange')\n",
    "\n",
    "ax[1].set_xticks(ticks=amazon['Year'].value_counts(ascending=True).index)\n",
    "\n",
    "\n",
    "plt.show()"
   ]
  },
  {
   "cell_type": "code",
   "execution_count": 14,
   "metadata": {
    "execution": {
     "iopub.execute_input": "2020-12-29T02:11:28.412677Z",
     "iopub.status.busy": "2020-12-29T02:11:28.411617Z",
     "iopub.status.idle": "2020-12-29T02:11:28.680348Z",
     "shell.execute_reply": "2020-12-29T02:11:28.680883Z"
    },
    "papermill": {
     "duration": 0.315306,
     "end_time": "2020-12-29T02:11:28.681067",
     "exception": false,
     "start_time": "2020-12-29T02:11:28.365761",
     "status": "completed"
    },
    "tags": []
   },
   "outputs": [
    {
     "data": {
      "image/png": "[encoded data removed]",
      "text/plain": [
       "<Figure size 432x288 with 2 Axes>"
      ]
     },
     "metadata": {
      "needs_background": "light"
     },
     "output_type": "display_data"
    }
   ],
   "source": [
    "sns.heatmap(amazon.corr(), vmin=-1, vmax=1, cmap=sns.diverging_palette(20, 220, as_cmap=True), annot=True)\n",
    "plt.show()"
   ]
  },
  {
   "cell_type": "markdown",
   "metadata": {
    "papermill": {
     "duration": 0.043543,
     "end_time": "2020-12-29T02:11:28.768921",
     "exception": false,
     "start_time": "2020-12-29T02:11:28.725378",
     "status": "completed"
    },
    "tags": []
   },
   "source": [
    "* From the above graphics, we can see a not so clear tendency of 'User Rating' moving in the opposite direction of 'Price'\n",
    "\n",
    "* The correlation is not so strong between 'Price' and 'User Rating'. Therefore, is not a good idea to jump into a ultimate conclusion out of this graphics. Nevertheless, The tendency still show 'Price' going down and 'User Rating' going up in the final years. "
   ]
  },
  {
   "cell_type": "markdown",
   "metadata": {
    "papermill": {
     "duration": 0.043296,
     "end_time": "2020-12-29T02:11:28.855609",
     "exception": false,
     "start_time": "2020-12-29T02:11:28.812313",
     "status": "completed"
    },
    "tags": []
   },
   "source": [
    "## 2.4 Which books give the best rating for money?"
   ]
  },
  {
   "cell_type": "code",
   "execution_count": 15,
   "metadata": {
    "execution": {
     "iopub.execute_input": "2020-12-29T02:11:28.962859Z",
     "iopub.status.busy": "2020-12-29T02:11:28.961875Z",
     "iopub.status.idle": "2020-12-29T02:11:28.966850Z",
     "shell.execute_reply": "2020-12-29T02:11:28.966329Z"
    },
    "papermill": {
     "duration": 0.067537,
     "end_time": "2020-12-29T02:11:28.966958",
     "exception": false,
     "start_time": "2020-12-29T02:11:28.899421",
     "status": "completed"
    },
    "tags": []
   },
   "outputs": [
    {
     "data": {
      "text/html": [
       "<div>\n",
       "<style scoped>\n",
       "    .dataframe tbody tr th:only-of-type {\n",
       "        vertical-align: middle;\n",
       "    }\n",
       "\n",
       "    .dataframe tbody tr th {\n",
       "        vertical-align: top;\n",
       "    }\n",
       "\n",
       "    .dataframe thead th {\n",
       "        text-align: right;\n",
       "    }\n",
       "</style>\n",
       "<table border=\"1\" class=\"dataframe\">\n",
       "  <thead>\n",
       "    <tr style=\"text-align: right;\">\n",
       "      <th></th>\n",
       "      <th>Name</th>\n",
       "      <th>Author</th>\n",
       "      <th>User Rating</th>\n",
       "      <th>Reviews</th>\n",
       "      <th>Price</th>\n",
       "      <th>Year</th>\n",
       "      <th>Genre</th>\n",
       "      <th>Price/Rating</th>\n",
       "    </tr>\n",
       "  </thead>\n",
       "  <tbody>\n",
       "    <tr>\n",
       "      <th>358</th>\n",
       "      <td>The Constitution of the United States</td>\n",
       "      <td>Delegates of the Constitutional</td>\n",
       "      <td>4.8</td>\n",
       "      <td>2774</td>\n",
       "      <td>0</td>\n",
       "      <td>2016</td>\n",
       "      <td>Non Fiction</td>\n",
       "      <td>0.0</td>\n",
       "    </tr>\n",
       "    <tr>\n",
       "      <th>193</th>\n",
       "      <td>JOURNEY TO THE ICE P</td>\n",
       "      <td>RH Disney</td>\n",
       "      <td>4.6</td>\n",
       "      <td>978</td>\n",
       "      <td>0</td>\n",
       "      <td>2014</td>\n",
       "      <td>Fiction</td>\n",
       "      <td>0.0</td>\n",
       "    </tr>\n",
       "    <tr>\n",
       "      <th>71</th>\n",
       "      <td>Diary of a Wimpy Kid: Hard Luck, Book 8</td>\n",
       "      <td>Jeff Kinney</td>\n",
       "      <td>4.8</td>\n",
       "      <td>6812</td>\n",
       "      <td>0</td>\n",
       "      <td>2013</td>\n",
       "      <td>Fiction</td>\n",
       "      <td>0.0</td>\n",
       "    </tr>\n",
       "    <tr>\n",
       "      <th>116</th>\n",
       "      <td>Frozen (Little Golden Book)</td>\n",
       "      <td>RH Disney</td>\n",
       "      <td>4.7</td>\n",
       "      <td>3642</td>\n",
       "      <td>0</td>\n",
       "      <td>2014</td>\n",
       "      <td>Fiction</td>\n",
       "      <td>0.0</td>\n",
       "    </tr>\n",
       "    <tr>\n",
       "      <th>381</th>\n",
       "      <td>The Getaway</td>\n",
       "      <td>Jeff Kinney</td>\n",
       "      <td>4.8</td>\n",
       "      <td>5836</td>\n",
       "      <td>0</td>\n",
       "      <td>2017</td>\n",
       "      <td>Fiction</td>\n",
       "      <td>0.0</td>\n",
       "    </tr>\n",
       "    <tr>\n",
       "      <th>42</th>\n",
       "      <td>Cabin Fever (Diary of a Wimpy Kid, Book 6)</td>\n",
       "      <td>Jeff Kinney</td>\n",
       "      <td>4.8</td>\n",
       "      <td>4505</td>\n",
       "      <td>0</td>\n",
       "      <td>2011</td>\n",
       "      <td>Fiction</td>\n",
       "      <td>0.0</td>\n",
       "    </tr>\n",
       "    <tr>\n",
       "      <th>461</th>\n",
       "      <td>The Short Second Life of Bree Tanner: An Eclip...</td>\n",
       "      <td>Stephenie Meyer</td>\n",
       "      <td>4.6</td>\n",
       "      <td>2122</td>\n",
       "      <td>0</td>\n",
       "      <td>2010</td>\n",
       "      <td>Fiction</td>\n",
       "      <td>0.0</td>\n",
       "    </tr>\n",
       "    <tr>\n",
       "      <th>505</th>\n",
       "      <td>To Kill a Mockingbird</td>\n",
       "      <td>Harper Lee</td>\n",
       "      <td>4.8</td>\n",
       "      <td>26234</td>\n",
       "      <td>0</td>\n",
       "      <td>2013</td>\n",
       "      <td>Fiction</td>\n",
       "      <td>0.0</td>\n",
       "    </tr>\n",
       "    <tr>\n",
       "      <th>506</th>\n",
       "      <td>To Kill a Mockingbird</td>\n",
       "      <td>Harper Lee</td>\n",
       "      <td>4.8</td>\n",
       "      <td>26234</td>\n",
       "      <td>0</td>\n",
       "      <td>2014</td>\n",
       "      <td>Fiction</td>\n",
       "      <td>0.0</td>\n",
       "    </tr>\n",
       "    <tr>\n",
       "      <th>507</th>\n",
       "      <td>To Kill a Mockingbird</td>\n",
       "      <td>Harper Lee</td>\n",
       "      <td>4.8</td>\n",
       "      <td>26234</td>\n",
       "      <td>0</td>\n",
       "      <td>2015</td>\n",
       "      <td>Fiction</td>\n",
       "      <td>0.0</td>\n",
       "    </tr>\n",
       "  </tbody>\n",
       "</table>\n",
       "</div>"
      ],
      "text/plain": [
       "                                                  Name  \\\n",
       "358              The Constitution of the United States   \n",
       "193                               JOURNEY TO THE ICE P   \n",
       "71             Diary of a Wimpy Kid: Hard Luck, Book 8   \n",
       "116                        Frozen (Little Golden Book)   \n",
       "381                                        The Getaway   \n",
       "42          Cabin Fever (Diary of a Wimpy Kid, Book 6)   \n",
       "461  The Short Second Life of Bree Tanner: An Eclip...   \n",
       "505                              To Kill a Mockingbird   \n",
       "506                              To Kill a Mockingbird   \n",
       "507                              To Kill a Mockingbird   \n",
       "\n",
       "                               Author  User Rating  Reviews  Price  Year  \\\n",
       "358  Delegates of the Constitutional\n",
       "          4.8     2774      0  2016   \n",
       "193                         RH Disney          4.6      978      0  2014   \n",
       "71                        Jeff Kinney          4.8     6812      0  2013   \n",
       "116                         RH Disney          4.7     3642      0  2014   \n",
       "381                       Jeff Kinney          4.8     5836      0  2017   \n",
       "42                        Jeff Kinney          4.8     4505      0  2011   \n",
       "461                   Stephenie Meyer          4.6     2122      0  2010   \n",
       "505                        Harper Lee          4.8    26234      0  2013   \n",
       "506                        Harper Lee          4.8    26234      0  2014   \n",
       "507                        Harper Lee          4.8    26234      0  2015   \n",
       "\n",
       "           Genre  Price/Rating  \n",
       "358  Non Fiction           0.0  \n",
       "193      Fiction           0.0  \n",
       "71       Fiction           0.0  \n",
       "116      Fiction           0.0  \n",
       "381      Fiction           0.0  \n",
       "42       Fiction           0.0  \n",
       "461      Fiction           0.0  \n",
       "505      Fiction           0.0  \n",
       "506      Fiction           0.0  \n",
       "507      Fiction           0.0  "
      ]
     },
     "execution_count": 15,
     "metadata": {},
     "output_type": "execute_result"
    }
   ],
   "source": [
    "amazon['Price/Rating'] = amazon['Price'] / amazon['User Rating']\n",
    "amazon.sort_values('Price/Rating').head(10)"
   ]
  },
  {
   "cell_type": "markdown",
   "metadata": {
    "papermill": {
     "duration": 0.043619,
     "end_time": "2020-12-29T02:11:29.054496",
     "exception": false,
     "start_time": "2020-12-29T02:11:29.010877",
     "status": "completed"
    },
    "tags": []
   },
   "source": [
    "The free books don't help in the analysis. let's take those free books out and analyze them seperately in the next section. This section will focus in paid books"
   ]
  },
  {
   "cell_type": "code",
   "execution_count": 16,
   "metadata": {
    "execution": {
     "iopub.execute_input": "2020-12-29T02:11:29.145313Z",
     "iopub.status.busy": "2020-12-29T02:11:29.144654Z",
     "iopub.status.idle": "2020-12-29T02:11:29.162085Z",
     "shell.execute_reply": "2020-12-29T02:11:29.162628Z"
    },
    "papermill": {
     "duration": 0.064627,
     "end_time": "2020-12-29T02:11:29.162788",
     "exception": false,
     "start_time": "2020-12-29T02:11:29.098161",
     "status": "completed"
    },
    "tags": []
   },
   "outputs": [
    {
     "data": {
      "text/html": [
       "<div>\n",
       "<style scoped>\n",
       "    .dataframe tbody tr th:only-of-type {\n",
       "        vertical-align: middle;\n",
       "    }\n",
       "\n",
       "    .dataframe tbody tr th {\n",
       "        vertical-align: top;\n",
       "    }\n",
       "\n",
       "    .dataframe thead th {\n",
       "        text-align: right;\n",
       "    }\n",
       "</style>\n",
       "<table border=\"1\" class=\"dataframe\">\n",
       "  <thead>\n",
       "    <tr style=\"text-align: right;\">\n",
       "      <th></th>\n",
       "      <th>Name</th>\n",
       "      <th>Author</th>\n",
       "      <th>User Rating</th>\n",
       "      <th>Reviews</th>\n",
       "      <th>Price</th>\n",
       "      <th>Year</th>\n",
       "      <th>Genre</th>\n",
       "      <th>Price/Rating</th>\n",
       "    </tr>\n",
       "  </thead>\n",
       "  <tbody>\n",
       "    <tr>\n",
       "      <th>91</th>\n",
       "      <td>Eat This Not That! Supermarket Survival Guide:...</td>\n",
       "      <td>David Zinczenko</td>\n",
       "      <td>4.5</td>\n",
       "      <td>720</td>\n",
       "      <td>1</td>\n",
       "      <td>2009</td>\n",
       "      <td>Non Fiction</td>\n",
       "      <td>0.222222</td>\n",
       "    </tr>\n",
       "    <tr>\n",
       "      <th>264</th>\n",
       "      <td>Percy Jackson and the Olympians Paperback Boxe...</td>\n",
       "      <td>Rick Riordan</td>\n",
       "      <td>4.8</td>\n",
       "      <td>548</td>\n",
       "      <td>2</td>\n",
       "      <td>2010</td>\n",
       "      <td>Fiction</td>\n",
       "      <td>0.416667</td>\n",
       "    </tr>\n",
       "    <tr>\n",
       "      <th>11</th>\n",
       "      <td>A Patriot's History of the United States: From...</td>\n",
       "      <td>Larry Schweikart</td>\n",
       "      <td>4.6</td>\n",
       "      <td>460</td>\n",
       "      <td>2</td>\n",
       "      <td>2010</td>\n",
       "      <td>Non Fiction</td>\n",
       "      <td>0.434783</td>\n",
       "    </tr>\n",
       "    <tr>\n",
       "      <th>389</th>\n",
       "      <td>The Girl with the Dragon Tattoo (Millennium Se...</td>\n",
       "      <td>Stieg Larsson</td>\n",
       "      <td>4.4</td>\n",
       "      <td>10559</td>\n",
       "      <td>2</td>\n",
       "      <td>2010</td>\n",
       "      <td>Fiction</td>\n",
       "      <td>0.454545</td>\n",
       "    </tr>\n",
       "    <tr>\n",
       "      <th>103</th>\n",
       "      <td>Fear: Trump in the White House</td>\n",
       "      <td>Bob Woodward</td>\n",
       "      <td>4.4</td>\n",
       "      <td>6042</td>\n",
       "      <td>2</td>\n",
       "      <td>2018</td>\n",
       "      <td>Non Fiction</td>\n",
       "      <td>0.454545</td>\n",
       "    </tr>\n",
       "    <tr>\n",
       "      <th>388</th>\n",
       "      <td>The Girl with the Dragon Tattoo (Millennium Se...</td>\n",
       "      <td>Stieg Larsson</td>\n",
       "      <td>4.4</td>\n",
       "      <td>10559</td>\n",
       "      <td>2</td>\n",
       "      <td>2009</td>\n",
       "      <td>Fiction</td>\n",
       "      <td>0.454545</td>\n",
       "    </tr>\n",
       "    <tr>\n",
       "      <th>8</th>\n",
       "      <td>A Higher Loyalty: Truth, Lies, and Leadership</td>\n",
       "      <td>James Comey</td>\n",
       "      <td>4.7</td>\n",
       "      <td>5983</td>\n",
       "      <td>3</td>\n",
       "      <td>2018</td>\n",
       "      <td>Non Fiction</td>\n",
       "      <td>0.638298</td>\n",
       "    </tr>\n",
       "    <tr>\n",
       "      <th>84</th>\n",
       "      <td>Dog Man: Brawl of the Wild: From the Creator o...</td>\n",
       "      <td>Dav Pilkey</td>\n",
       "      <td>4.9</td>\n",
       "      <td>7235</td>\n",
       "      <td>4</td>\n",
       "      <td>2019</td>\n",
       "      <td>Fiction</td>\n",
       "      <td>0.816327</td>\n",
       "    </tr>\n",
       "    <tr>\n",
       "      <th>83</th>\n",
       "      <td>Dog Man: Brawl of the Wild: From the Creator o...</td>\n",
       "      <td>Dav Pilkey</td>\n",
       "      <td>4.9</td>\n",
       "      <td>7235</td>\n",
       "      <td>4</td>\n",
       "      <td>2018</td>\n",
       "      <td>Fiction</td>\n",
       "      <td>0.816327</td>\n",
       "    </tr>\n",
       "    <tr>\n",
       "      <th>124</th>\n",
       "      <td>Giraffes Can't Dance</td>\n",
       "      <td>Giles Andreae</td>\n",
       "      <td>4.8</td>\n",
       "      <td>14038</td>\n",
       "      <td>4</td>\n",
       "      <td>2016</td>\n",
       "      <td>Fiction</td>\n",
       "      <td>0.833333</td>\n",
       "    </tr>\n",
       "  </tbody>\n",
       "</table>\n",
       "</div>"
      ],
      "text/plain": [
       "                                                  Name            Author  \\\n",
       "91   Eat This Not That! Supermarket Survival Guide:...   David Zinczenko   \n",
       "264  Percy Jackson and the Olympians Paperback Boxe...      Rick Riordan   \n",
       "11   A Patriot's History of the United States: From...  Larry Schweikart   \n",
       "389  The Girl with the Dragon Tattoo (Millennium Se...     Stieg Larsson   \n",
       "103                     Fear: Trump in the White House      Bob Woodward   \n",
       "388  The Girl with the Dragon Tattoo (Millennium Se...     Stieg Larsson   \n",
       "8        A Higher Loyalty: Truth, Lies, and Leadership       James Comey   \n",
       "84   Dog Man: Brawl of the Wild: From the Creator o...        Dav Pilkey   \n",
       "83   Dog Man: Brawl of the Wild: From the Creator o...        Dav Pilkey   \n",
       "124                               Giraffes Can't Dance     Giles Andreae   \n",
       "\n",
       "     User Rating  Reviews  Price  Year        Genre  Price/Rating  \n",
       "91           4.5      720      1  2009  Non Fiction      0.222222  \n",
       "264          4.8      548      2  2010      Fiction      0.416667  \n",
       "11           4.6      460      2  2010  Non Fiction      0.434783  \n",
       "389          4.4    10559      2  2010      Fiction      0.454545  \n",
       "103          4.4     6042      2  2018  Non Fiction      0.454545  \n",
       "388          4.4    10559      2  2009      Fiction      0.454545  \n",
       "8            4.7     5983      3  2018  Non Fiction      0.638298  \n",
       "84           4.9     7235      4  2019      Fiction      0.816327  \n",
       "83           4.9     7235      4  2018      Fiction      0.816327  \n",
       "124          4.8    14038      4  2016      Fiction      0.833333  "
      ]
     },
     "execution_count": 16,
     "metadata": {},
     "output_type": "execute_result"
    }
   ],
   "source": [
    "amazon[amazon['Price']!=0].sort_values('Price/Rating').head(10)"
   ]
  },
  {
   "cell_type": "markdown",
   "metadata": {
    "papermill": {
     "duration": 0.044728,
     "end_time": "2020-12-29T02:11:29.253810",
     "exception": false,
     "start_time": "2020-12-29T02:11:29.209082",
     "status": "completed"
    },
    "tags": []
   },
   "source": [
    "* With a price of just 1 and a rating of 4.5, \"Eat This Not That! Supermarket Survival Guide\", by David Zinczenko, gives the best rating for money "
   ]
  },
  {
   "cell_type": "markdown",
   "metadata": {
    "papermill": {
     "duration": 0.045807,
     "end_time": "2020-12-29T02:11:29.345249",
     "exception": false,
     "start_time": "2020-12-29T02:11:29.299442",
     "status": "completed"
    },
    "tags": []
   },
   "source": [
    "## 2.5 Which are the free books with the best rating?"
   ]
  },
  {
   "cell_type": "code",
   "execution_count": 17,
   "metadata": {
    "execution": {
     "iopub.execute_input": "2020-12-29T02:11:29.438632Z",
     "iopub.status.busy": "2020-12-29T02:11:29.437896Z",
     "iopub.status.idle": "2020-12-29T02:11:29.455903Z",
     "shell.execute_reply": "2020-12-29T02:11:29.456410Z"
    },
    "papermill": {
     "duration": 0.066288,
     "end_time": "2020-12-29T02:11:29.456561",
     "exception": false,
     "start_time": "2020-12-29T02:11:29.390273",
     "status": "completed"
    },
    "tags": []
   },
   "outputs": [
    {
     "data": {
      "text/html": [
       "<div>\n",
       "<style scoped>\n",
       "    .dataframe tbody tr th:only-of-type {\n",
       "        vertical-align: middle;\n",
       "    }\n",
       "\n",
       "    .dataframe tbody tr th {\n",
       "        vertical-align: top;\n",
       "    }\n",
       "\n",
       "    .dataframe thead th {\n",
       "        text-align: right;\n",
       "    }\n",
       "</style>\n",
       "<table border=\"1\" class=\"dataframe\">\n",
       "  <thead>\n",
       "    <tr style=\"text-align: right;\">\n",
       "      <th></th>\n",
       "      <th>Name</th>\n",
       "      <th>Author</th>\n",
       "      <th>User Rating</th>\n",
       "      <th>Reviews</th>\n",
       "      <th>Price</th>\n",
       "      <th>Year</th>\n",
       "      <th>Genre</th>\n",
       "      <th>Price/Rating</th>\n",
       "    </tr>\n",
       "  </thead>\n",
       "  <tbody>\n",
       "    <tr>\n",
       "      <th>219</th>\n",
       "      <td>Little Blue Truck</td>\n",
       "      <td>Alice Schertle</td>\n",
       "      <td>4.9</td>\n",
       "      <td>1884</td>\n",
       "      <td>0</td>\n",
       "      <td>2014</td>\n",
       "      <td>Fiction</td>\n",
       "      <td>0.0</td>\n",
       "    </tr>\n",
       "    <tr>\n",
       "      <th>42</th>\n",
       "      <td>Cabin Fever (Diary of a Wimpy Kid, Book 6)</td>\n",
       "      <td>Jeff Kinney</td>\n",
       "      <td>4.8</td>\n",
       "      <td>4505</td>\n",
       "      <td>0</td>\n",
       "      <td>2011</td>\n",
       "      <td>Fiction</td>\n",
       "      <td>0.0</td>\n",
       "    </tr>\n",
       "    <tr>\n",
       "      <th>71</th>\n",
       "      <td>Diary of a Wimpy Kid: Hard Luck, Book 8</td>\n",
       "      <td>Jeff Kinney</td>\n",
       "      <td>4.8</td>\n",
       "      <td>6812</td>\n",
       "      <td>0</td>\n",
       "      <td>2013</td>\n",
       "      <td>Fiction</td>\n",
       "      <td>0.0</td>\n",
       "    </tr>\n",
       "    <tr>\n",
       "      <th>358</th>\n",
       "      <td>The Constitution of the United States</td>\n",
       "      <td>Delegates of the Constitutional</td>\n",
       "      <td>4.8</td>\n",
       "      <td>2774</td>\n",
       "      <td>0</td>\n",
       "      <td>2016</td>\n",
       "      <td>Non Fiction</td>\n",
       "      <td>0.0</td>\n",
       "    </tr>\n",
       "    <tr>\n",
       "      <th>381</th>\n",
       "      <td>The Getaway</td>\n",
       "      <td>Jeff Kinney</td>\n",
       "      <td>4.8</td>\n",
       "      <td>5836</td>\n",
       "      <td>0</td>\n",
       "      <td>2017</td>\n",
       "      <td>Fiction</td>\n",
       "      <td>0.0</td>\n",
       "    </tr>\n",
       "    <tr>\n",
       "      <th>505</th>\n",
       "      <td>To Kill a Mockingbird</td>\n",
       "      <td>Harper Lee</td>\n",
       "      <td>4.8</td>\n",
       "      <td>26234</td>\n",
       "      <td>0</td>\n",
       "      <td>2013</td>\n",
       "      <td>Fiction</td>\n",
       "      <td>0.0</td>\n",
       "    </tr>\n",
       "    <tr>\n",
       "      <th>506</th>\n",
       "      <td>To Kill a Mockingbird</td>\n",
       "      <td>Harper Lee</td>\n",
       "      <td>4.8</td>\n",
       "      <td>26234</td>\n",
       "      <td>0</td>\n",
       "      <td>2014</td>\n",
       "      <td>Fiction</td>\n",
       "      <td>0.0</td>\n",
       "    </tr>\n",
       "    <tr>\n",
       "      <th>507</th>\n",
       "      <td>To Kill a Mockingbird</td>\n",
       "      <td>Harper Lee</td>\n",
       "      <td>4.8</td>\n",
       "      <td>26234</td>\n",
       "      <td>0</td>\n",
       "      <td>2015</td>\n",
       "      <td>Fiction</td>\n",
       "      <td>0.0</td>\n",
       "    </tr>\n",
       "    <tr>\n",
       "      <th>508</th>\n",
       "      <td>To Kill a Mockingbird</td>\n",
       "      <td>Harper Lee</td>\n",
       "      <td>4.8</td>\n",
       "      <td>26234</td>\n",
       "      <td>0</td>\n",
       "      <td>2016</td>\n",
       "      <td>Fiction</td>\n",
       "      <td>0.0</td>\n",
       "    </tr>\n",
       "    <tr>\n",
       "      <th>116</th>\n",
       "      <td>Frozen (Little Golden Book)</td>\n",
       "      <td>RH Disney</td>\n",
       "      <td>4.7</td>\n",
       "      <td>3642</td>\n",
       "      <td>0</td>\n",
       "      <td>2014</td>\n",
       "      <td>Fiction</td>\n",
       "      <td>0.0</td>\n",
       "    </tr>\n",
       "  </tbody>\n",
       "</table>\n",
       "</div>"
      ],
      "text/plain": [
       "                                           Name  \\\n",
       "219                           Little Blue Truck   \n",
       "42   Cabin Fever (Diary of a Wimpy Kid, Book 6)   \n",
       "71      Diary of a Wimpy Kid: Hard Luck, Book 8   \n",
       "358       The Constitution of the United States   \n",
       "381                                 The Getaway   \n",
       "505                       To Kill a Mockingbird   \n",
       "506                       To Kill a Mockingbird   \n",
       "507                       To Kill a Mockingbird   \n",
       "508                       To Kill a Mockingbird   \n",
       "116                 Frozen (Little Golden Book)   \n",
       "\n",
       "                               Author  User Rating  Reviews  Price  Year  \\\n",
       "219                    Alice Schertle          4.9     1884      0  2014   \n",
       "42                        Jeff Kinney          4.8     4505      0  2011   \n",
       "71                        Jeff Kinney          4.8     6812      0  2013   \n",
       "358  Delegates of the Constitutional\n",
       "          4.8     2774      0  2016   \n",
       "381                       Jeff Kinney          4.8     5836      0  2017   \n",
       "505                        Harper Lee          4.8    26234      0  2013   \n",
       "506                        Harper Lee          4.8    26234      0  2014   \n",
       "507                        Harper Lee          4.8    26234      0  2015   \n",
       "508                        Harper Lee          4.8    26234      0  2016   \n",
       "116                         RH Disney          4.7     3642      0  2014   \n",
       "\n",
       "           Genre  Price/Rating  \n",
       "219      Fiction           0.0  \n",
       "42       Fiction           0.0  \n",
       "71       Fiction           0.0  \n",
       "358  Non Fiction           0.0  \n",
       "381      Fiction           0.0  \n",
       "505      Fiction           0.0  \n",
       "506      Fiction           0.0  \n",
       "507      Fiction           0.0  \n",
       "508      Fiction           0.0  \n",
       "116      Fiction           0.0  "
      ]
     },
     "execution_count": 17,
     "metadata": {},
     "output_type": "execute_result"
    }
   ],
   "source": [
    "amazon[amazon['Price']==0].sort_values('User Rating', ascending=False).head(10)"
   ]
  },
  {
   "cell_type": "markdown",
   "metadata": {
    "papermill": {
     "duration": 0.045812,
     "end_time": "2020-12-29T02:11:29.548427",
     "exception": false,
     "start_time": "2020-12-29T02:11:29.502615",
     "status": "completed"
    },
    "tags": []
   },
   "source": [
    "* \"Little Blue Truck\" by Alice Schertle is the most beloved free book with a user rating of 4.9"
   ]
  },
  {
   "cell_type": "markdown",
   "metadata": {
    "papermill": {
     "duration": 0.045393,
     "end_time": "2020-12-29T02:11:29.639828",
     "exception": false,
     "start_time": "2020-12-29T02:11:29.594435",
     "status": "completed"
    },
    "tags": []
   },
   "source": [
    "## 2.6 Number of reviews and rating relationship\n",
    "Sometimes the rating can be missleading since a very small group of people rank it the best book or a very hyped book gets lots of good reviews. The reviews and rating relationship can give a clearer and more honest picture of the book's performance."
   ]
  },
  {
   "cell_type": "code",
   "execution_count": 18,
   "metadata": {
    "execution": {
     "iopub.execute_input": "2020-12-29T02:11:29.736602Z",
     "iopub.status.busy": "2020-12-29T02:11:29.735494Z",
     "iopub.status.idle": "2020-12-29T02:11:29.759598Z",
     "shell.execute_reply": "2020-12-29T02:11:29.760147Z"
    },
    "papermill": {
     "duration": 0.074603,
     "end_time": "2020-12-29T02:11:29.760296",
     "exception": false,
     "start_time": "2020-12-29T02:11:29.685693",
     "status": "completed"
    },
    "tags": []
   },
   "outputs": [
    {
     "data": {
      "text/html": [
       "<div>\n",
       "<style scoped>\n",
       "    .dataframe tbody tr th:only-of-type {\n",
       "        vertical-align: middle;\n",
       "    }\n",
       "\n",
       "    .dataframe tbody tr th {\n",
       "        vertical-align: top;\n",
       "    }\n",
       "\n",
       "    .dataframe thead th {\n",
       "        text-align: right;\n",
       "    }\n",
       "</style>\n",
       "<table border=\"1\" class=\"dataframe\">\n",
       "  <thead>\n",
       "    <tr style=\"text-align: right;\">\n",
       "      <th></th>\n",
       "      <th>Name</th>\n",
       "      <th>Author</th>\n",
       "      <th>User Rating</th>\n",
       "      <th>Reviews</th>\n",
       "      <th>Price</th>\n",
       "      <th>Year</th>\n",
       "      <th>Genre</th>\n",
       "      <th>Price/Rating</th>\n",
       "      <th>Reviews/Rating</th>\n",
       "    </tr>\n",
       "  </thead>\n",
       "  <tbody>\n",
       "    <tr>\n",
       "      <th>382</th>\n",
       "      <td>The Girl on the Train</td>\n",
       "      <td>Paula Hawkins</td>\n",
       "      <td>4.1</td>\n",
       "      <td>79446</td>\n",
       "      <td>18</td>\n",
       "      <td>2015</td>\n",
       "      <td>Fiction</td>\n",
       "      <td>4.390244</td>\n",
       "      <td>19377.073171</td>\n",
       "    </tr>\n",
       "    <tr>\n",
       "      <th>383</th>\n",
       "      <td>The Girl on the Train</td>\n",
       "      <td>Paula Hawkins</td>\n",
       "      <td>4.1</td>\n",
       "      <td>79446</td>\n",
       "      <td>7</td>\n",
       "      <td>2016</td>\n",
       "      <td>Fiction</td>\n",
       "      <td>1.707317</td>\n",
       "      <td>19377.073171</td>\n",
       "    </tr>\n",
       "    <tr>\n",
       "      <th>534</th>\n",
       "      <td>Where the Crawdads Sing</td>\n",
       "      <td>Delia Owens</td>\n",
       "      <td>4.8</td>\n",
       "      <td>87841</td>\n",
       "      <td>15</td>\n",
       "      <td>2019</td>\n",
       "      <td>Fiction</td>\n",
       "      <td>3.125000</td>\n",
       "      <td>18300.208333</td>\n",
       "    </tr>\n",
       "    <tr>\n",
       "      <th>135</th>\n",
       "      <td>Gone Girl</td>\n",
       "      <td>Gillian Flynn</td>\n",
       "      <td>4.0</td>\n",
       "      <td>57271</td>\n",
       "      <td>10</td>\n",
       "      <td>2012</td>\n",
       "      <td>Fiction</td>\n",
       "      <td>2.500000</td>\n",
       "      <td>14317.750000</td>\n",
       "    </tr>\n",
       "    <tr>\n",
       "      <th>136</th>\n",
       "      <td>Gone Girl</td>\n",
       "      <td>Gillian Flynn</td>\n",
       "      <td>4.0</td>\n",
       "      <td>57271</td>\n",
       "      <td>10</td>\n",
       "      <td>2013</td>\n",
       "      <td>Fiction</td>\n",
       "      <td>2.500000</td>\n",
       "      <td>14317.750000</td>\n",
       "    </tr>\n",
       "    <tr>\n",
       "      <th>...</th>\n",
       "      <td>...</td>\n",
       "      <td>...</td>\n",
       "      <td>...</td>\n",
       "      <td>...</td>\n",
       "      <td>...</td>\n",
       "      <td>...</td>\n",
       "      <td>...</td>\n",
       "      <td>...</td>\n",
       "      <td>...</td>\n",
       "    </tr>\n",
       "    <tr>\n",
       "      <th>359</th>\n",
       "      <td>The Daily Show with Jon Stewart Presents Earth...</td>\n",
       "      <td>Jon Stewart</td>\n",
       "      <td>4.4</td>\n",
       "      <td>440</td>\n",
       "      <td>11</td>\n",
       "      <td>2010</td>\n",
       "      <td>Non Fiction</td>\n",
       "      <td>2.500000</td>\n",
       "      <td>100.000000</td>\n",
       "    </tr>\n",
       "    <tr>\n",
       "      <th>512</th>\n",
       "      <td>True Compass: A Memoir</td>\n",
       "      <td>Edward M. Kennedy</td>\n",
       "      <td>4.5</td>\n",
       "      <td>438</td>\n",
       "      <td>15</td>\n",
       "      <td>2009</td>\n",
       "      <td>Non Fiction</td>\n",
       "      <td>3.333333</td>\n",
       "      <td>97.333333</td>\n",
       "    </tr>\n",
       "    <tr>\n",
       "      <th>121</th>\n",
       "      <td>George Washington's Sacred Fire</td>\n",
       "      <td>Peter A. Lillback</td>\n",
       "      <td>4.5</td>\n",
       "      <td>408</td>\n",
       "      <td>20</td>\n",
       "      <td>2010</td>\n",
       "      <td>Non Fiction</td>\n",
       "      <td>4.444444</td>\n",
       "      <td>90.666667</td>\n",
       "    </tr>\n",
       "    <tr>\n",
       "      <th>300</th>\n",
       "      <td>Soul Healing Miracles: Ancient and New Sacred ...</td>\n",
       "      <td>Zhi Gang Sha</td>\n",
       "      <td>4.6</td>\n",
       "      <td>220</td>\n",
       "      <td>17</td>\n",
       "      <td>2013</td>\n",
       "      <td>Non Fiction</td>\n",
       "      <td>3.695652</td>\n",
       "      <td>47.826087</td>\n",
       "    </tr>\n",
       "    <tr>\n",
       "      <th>78</th>\n",
       "      <td>Divine Soul Mind Body Healing and Transmission...</td>\n",
       "      <td>Zhi Gang Sha</td>\n",
       "      <td>4.6</td>\n",
       "      <td>37</td>\n",
       "      <td>6</td>\n",
       "      <td>2009</td>\n",
       "      <td>Non Fiction</td>\n",
       "      <td>1.304348</td>\n",
       "      <td>8.043478</td>\n",
       "    </tr>\n",
       "  </tbody>\n",
       "</table>\n",
       "<p>550 rows × 9 columns</p>\n",
       "</div>"
      ],
      "text/plain": [
       "                                                  Name             Author  \\\n",
       "382                              The Girl on the Train      Paula Hawkins   \n",
       "383                              The Girl on the Train      Paula Hawkins   \n",
       "534                            Where the Crawdads Sing        Delia Owens   \n",
       "135                                          Gone Girl      Gillian Flynn   \n",
       "136                                          Gone Girl      Gillian Flynn   \n",
       "..                                                 ...                ...   \n",
       "359  The Daily Show with Jon Stewart Presents Earth...        Jon Stewart   \n",
       "512                             True Compass: A Memoir  Edward M. Kennedy   \n",
       "121                    George Washington's Sacred Fire  Peter A. Lillback   \n",
       "300  Soul Healing Miracles: Ancient and New Sacred ...       Zhi Gang Sha   \n",
       "78   Divine Soul Mind Body Healing and Transmission...       Zhi Gang Sha   \n",
       "\n",
       "     User Rating  Reviews  Price  Year        Genre  Price/Rating  \\\n",
       "382          4.1    79446     18  2015      Fiction      4.390244   \n",
       "383          4.1    79446      7  2016      Fiction      1.707317   \n",
       "534          4.8    87841     15  2019      Fiction      3.125000   \n",
       "135          4.0    57271     10  2012      Fiction      2.500000   \n",
       "136          4.0    57271     10  2013      Fiction      2.500000   \n",
       "..           ...      ...    ...   ...          ...           ...   \n",
       "359          4.4      440     11  2010  Non Fiction      2.500000   \n",
       "512          4.5      438     15  2009  Non Fiction      3.333333   \n",
       "121          4.5      408     20  2010  Non Fiction      4.444444   \n",
       "300          4.6      220     17  2013  Non Fiction      3.695652   \n",
       "78           4.6       37      6  2009  Non Fiction      1.304348   \n",
       "\n",
       "     Reviews/Rating  \n",
       "382    19377.073171  \n",
       "383    19377.073171  \n",
       "534    18300.208333  \n",
       "135    14317.750000  \n",
       "136    14317.750000  \n",
       "..              ...  \n",
       "359      100.000000  \n",
       "512       97.333333  \n",
       "121       90.666667  \n",
       "300       47.826087  \n",
       "78         8.043478  \n",
       "\n",
       "[550 rows x 9 columns]"
      ]
     },
     "execution_count": 18,
     "metadata": {},
     "output_type": "execute_result"
    }
   ],
   "source": [
    "amazon['Reviews/Rating'] = amazon['Reviews']/amazon['User Rating']\n",
    "amazon.sort_values('Reviews/Rating', ascending=False)"
   ]
  },
  {
   "cell_type": "markdown",
   "metadata": {
    "papermill": {
     "duration": 0.047001,
     "end_time": "2020-12-29T02:11:29.853851",
     "exception": false,
     "start_time": "2020-12-29T02:11:29.806850",
     "status": "completed"
    },
    "tags": []
   },
   "source": [
    "* We can trust the top three books ratings since they have lots of reviews. In relation to the others bestselling books, two of the top three books in this list ('The Girl on the Rain' and 'Gone Girl') do not perform so well with a rating of 4.1 and 4.0. On the other hand, \"Where the Crawdads Sing\" by Delia Owens, looks like a very smart choice since it got lots of reviews and a top rating\n",
    "\n",
    "* On the bottom we se Zhi Gang Sha books. Regardless of the good rating of this books, the number of reviews are not as big as the other books and therefore it gives an incomplete picture of the book."
   ]
  },
  {
   "cell_type": "markdown",
   "metadata": {
    "papermill": {
     "duration": 0.046324,
     "end_time": "2020-12-29T02:11:29.947021",
     "exception": false,
     "start_time": "2020-12-29T02:11:29.900697",
     "status": "completed"
    },
    "tags": []
   },
   "source": [
    "## Bonus. What's the most expensive book?"
   ]
  },
  {
   "cell_type": "code",
   "execution_count": 19,
   "metadata": {
    "execution": {
     "iopub.execute_input": "2020-12-29T02:11:30.045223Z",
     "iopub.status.busy": "2020-12-29T02:11:30.044186Z",
     "iopub.status.idle": "2020-12-29T02:11:30.052424Z",
     "shell.execute_reply": "2020-12-29T02:11:30.051728Z"
    },
    "papermill": {
     "duration": 0.05811,
     "end_time": "2020-12-29T02:11:30.052586",
     "exception": false,
     "start_time": "2020-12-29T02:11:29.994476",
     "status": "completed"
    },
    "tags": []
   },
   "outputs": [
    {
     "name": "stdout",
     "output_type": "stream",
     "text": [
      "Would you buy the Diagnostic and Statistical Manual of Mental Disorders, 5th Edition: DSM-5?\n"
     ]
    }
   ],
   "source": [
    "print('Would you buy the {}?'.format(amazon.sort_values('Price', ascending=False).iloc[0,0]))"
   ]
  }
 ],
 "metadata": {
  "kernelspec": {
   "display_name": "Python 3",
   "language": "python",
   "name": "python3"
  },
  "language_info": {
   "codemirror_mode": {
    "name": "ipython",
    "version": 3
   },
   "file_extension": ".py",
   "mimetype": "text/x-python",
   "name": "python",
   "nbconvert_exporter": "python",
   "pygments_lexer": "ipython3",
   "version": "3.7.4"
  },
  "papermill": {
   "duration": 15.060459,
   "end_time": "2020-12-29T02:11:31.202794",
   "environment_variables": {},
   "exception": null,
   "input_path": "__notebook__.ipynb",
   "output_path": "__notebook__.ipynb",
   "parameters": {},
   "start_time": "2020-12-29T02:11:16.142335",
   "version": "2.1.0"
  }
 },
 "nbformat": 4,
 "nbformat_minor": 4
}
